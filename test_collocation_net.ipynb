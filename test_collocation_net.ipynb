{
 "cells": [
  {
   "cell_type": "code",
   "execution_count": 2,
   "id": "4eab2deb",
   "metadata": {},
   "outputs": [],
   "source": [
    "from collocation_net import CollocationNet"
   ]
  },
  {
   "cell_type": "code",
   "execution_count": 3,
   "id": "6297879d",
   "metadata": {},
   "outputs": [],
   "source": [
    "cn = CollocationNet()"
   ]
  },
  {
   "cell_type": "code",
   "execution_count": 5,
   "id": "b32a6fb9",
   "metadata": {},
   "outputs": [
    {
     "data": {
      "text/plain": [
       "['latern',\n",
       " 'tellis',\n",
       " 'rist',\n",
       " 'kurat',\n",
       " 'rätt',\n",
       " 'paprika',\n",
       " 'roos',\n",
       " 'rätik',\n",
       " 'foorituli',\n",
       " 'sõstar']"
      ]
     },
     "execution_count": 5,
     "metadata": {},
     "output_type": "execute_result"
    }
   ],
   "source": [
    "cn.nouns_used_with(\"punane\")"
   ]
  },
  {
   "cell_type": "code",
   "execution_count": 6,
   "id": "08250429",
   "metadata": {},
   "outputs": [
    {
     "data": {
      "text/plain": [
       "['punane',\n",
       " 'valge',\n",
       " 'uus',\n",
       " 'tulipunane',\n",
       " 'suur',\n",
       " 'väikeseõieline',\n",
       " 'süüdatud',\n",
       " 'suureõieline',\n",
       " 'tumepunane',\n",
       " 'hõõguv']"
      ]
     },
     "execution_count": 6,
     "metadata": {},
     "output_type": "execute_result"
    }
   ],
   "source": [
    "cn.adjectives_used_with(\"roos\")"
   ]
  },
  {
   "cell_type": "code",
   "execution_count": 7,
   "id": "64b81a76",
   "metadata": {},
   "outputs": [
    {
     "ename": "CollocationNetException",
     "evalue": "Word 'testsõna' not in the dataset.",
     "output_type": "error",
     "traceback": [
      "\u001b[1;31m---------------------------------------------------------------------------\u001b[0m",
      "\u001b[1;31mCollocationNetException\u001b[0m                   Traceback (most recent call last)",
      "\u001b[1;32m<ipython-input-7-693d962a7e18>\u001b[0m in \u001b[0;36m<module>\u001b[1;34m\u001b[0m\n\u001b[1;32m----> 1\u001b[1;33m \u001b[0mcn\u001b[0m\u001b[1;33m.\u001b[0m\u001b[0madjectives_used_with\u001b[0m\u001b[1;33m(\u001b[0m\u001b[1;34m\"testsõna\"\u001b[0m\u001b[1;33m)\u001b[0m\u001b[1;33m\u001b[0m\u001b[1;33m\u001b[0m\u001b[0m\n\u001b[0m",
      "\u001b[1;32m~\\Documents\\collocation-net\\collocation_net.py\u001b[0m in \u001b[0;36madjectives_used_with\u001b[1;34m(self, word, number_of_words)\u001b[0m\n\u001b[0;32m     50\u001b[0m \u001b[1;33m\u001b[0m\u001b[0m\n\u001b[0;32m     51\u001b[0m     \u001b[1;32mdef\u001b[0m \u001b[0madjectives_used_with\u001b[0m\u001b[1;33m(\u001b[0m\u001b[0mself\u001b[0m\u001b[1;33m,\u001b[0m \u001b[0mword\u001b[0m\u001b[1;33m:\u001b[0m \u001b[0mstr\u001b[0m\u001b[1;33m,\u001b[0m \u001b[0mnumber_of_words\u001b[0m\u001b[1;33m:\u001b[0m \u001b[0mint\u001b[0m \u001b[1;33m=\u001b[0m \u001b[1;36m10\u001b[0m\u001b[1;33m)\u001b[0m \u001b[1;33m->\u001b[0m \u001b[0mlist\u001b[0m\u001b[1;33m:\u001b[0m\u001b[1;33m\u001b[0m\u001b[1;33m\u001b[0m\u001b[0m\n\u001b[1;32m---> 52\u001b[1;33m         \u001b[0mword_index\u001b[0m \u001b[1;33m=\u001b[0m \u001b[0mself\u001b[0m\u001b[1;33m.\u001b[0m\u001b[0mnoun_index\u001b[0m\u001b[1;33m(\u001b[0m\u001b[0mword\u001b[0m\u001b[1;33m)\u001b[0m\u001b[1;33m\u001b[0m\u001b[1;33m\u001b[0m\u001b[0m\n\u001b[0m\u001b[0;32m     53\u001b[0m \u001b[1;33m\u001b[0m\u001b[0m\n\u001b[0;32m     54\u001b[0m         \u001b[0mnoun_topic\u001b[0m \u001b[1;33m=\u001b[0m \u001b[0mself\u001b[0m\u001b[1;33m.\u001b[0m\u001b[0mnoun_dist\u001b[0m\u001b[1;33m[\u001b[0m\u001b[0mword_index\u001b[0m\u001b[1;33m]\u001b[0m\u001b[1;33m.\u001b[0m\u001b[0margmax\u001b[0m\u001b[1;33m(\u001b[0m\u001b[1;33m)\u001b[0m\u001b[1;33m\u001b[0m\u001b[1;33m\u001b[0m\u001b[0m\n",
      "\u001b[1;32m~\\Documents\\collocation-net\\collocation_net.py\u001b[0m in \u001b[0;36mnoun_index\u001b[1;34m(self, word)\u001b[0m\n\u001b[0;32m     33\u001b[0m             \u001b[1;32mif\u001b[0m \u001b[0mnoun\u001b[0m \u001b[1;33m==\u001b[0m \u001b[0mword\u001b[0m\u001b[1;33m:\u001b[0m\u001b[1;33m\u001b[0m\u001b[1;33m\u001b[0m\u001b[0m\n\u001b[0;32m     34\u001b[0m                 \u001b[1;32mreturn\u001b[0m \u001b[0mi\u001b[0m\u001b[1;33m\u001b[0m\u001b[1;33m\u001b[0m\u001b[0m\n\u001b[1;32m---> 35\u001b[1;33m         \u001b[1;32mraise\u001b[0m \u001b[0mCollocationNetException\u001b[0m\u001b[1;33m(\u001b[0m\u001b[1;34mf\"Word '{word}' not in the dataset.\"\u001b[0m\u001b[1;33m)\u001b[0m\u001b[1;33m\u001b[0m\u001b[1;33m\u001b[0m\u001b[0m\n\u001b[0m\u001b[0;32m     36\u001b[0m \u001b[1;33m\u001b[0m\u001b[0m\n\u001b[0;32m     37\u001b[0m     \u001b[1;32mdef\u001b[0m \u001b[0madjective_index\u001b[0m\u001b[1;33m(\u001b[0m\u001b[0mself\u001b[0m\u001b[1;33m,\u001b[0m \u001b[0mword\u001b[0m\u001b[1;33m:\u001b[0m \u001b[0mstr\u001b[0m\u001b[1;33m)\u001b[0m \u001b[1;33m->\u001b[0m \u001b[0mint\u001b[0m\u001b[1;33m:\u001b[0m\u001b[1;33m\u001b[0m\u001b[1;33m\u001b[0m\u001b[0m\n",
      "\u001b[1;31mCollocationNetException\u001b[0m: Word 'testsõna' not in the dataset."
     ]
    }
   ],
   "source": [
    "cn.adjectives_used_with(\"testsõna\")"
   ]
  },
  {
   "cell_type": "code",
   "execution_count": 9,
   "id": "ee1b48c5",
   "metadata": {},
   "outputs": [
    {
     "data": {
      "text/plain": [
       "['hooaeg',\n",
       " 'teisipäev',\n",
       " 'nädal',\n",
       " 'tali',\n",
       " 'õppeaasta',\n",
       " 'turustusaasta',\n",
       " 'sajand',\n",
       " 'sügis',\n",
       " 'kokkusaamine',\n",
       " 'kütteperiood']"
      ]
     },
     "execution_count": 9,
     "metadata": {},
     "output_type": "execute_result"
    }
   ],
   "source": [
    "cn.similar_nouns(\"esmaspäev\")"
   ]
  },
  {
   "cell_type": "code",
   "execution_count": 11,
   "id": "23a05fe6",
   "metadata": {},
   "outputs": [
    {
     "data": {
      "text/plain": [
       "['hapu',\n",
       " 'lõhnav',\n",
       " 'lilla',\n",
       " 'kuldkollane',\n",
       " 'kangendatud',\n",
       " 'kirgas',\n",
       " 'nominaalne',\n",
       " 'täidlane',\n",
       " 'pruunikas',\n",
       " 'oranzh']"
      ]
     },
     "execution_count": 11,
     "metadata": {},
     "output_type": "execute_result"
    }
   ],
   "source": [
    "cn.similar_adjectives(\"roosa\")"
   ]
  },
  {
   "cell_type": "code",
   "execution_count": 12,
   "id": "7587a755",
   "metadata": {},
   "outputs": [
    {
     "data": {
      "text/plain": [
       "['aasta', 'hooaeg', 'sajand', 'esmaspäev']"
      ]
     },
     "execution_count": 12,
     "metadata": {},
     "output_type": "execute_result"
    }
   ],
   "source": [
    "cn.topic(\"esmaspäev\")"
   ]
  },
  {
   "cell_type": "code",
   "execution_count": 13,
   "id": "12876500",
   "metadata": {},
   "outputs": [
    {
     "data": {
      "text/plain": [
       "['reede',\n",
       " 'sügis',\n",
       " 'nädalavahetus',\n",
       " 'kolmapäev',\n",
       " 'teisipäev',\n",
       " 'laupäev',\n",
       " 'pühapäev',\n",
       " 'nädalalõpp',\n",
       " 'detsember',\n",
       " 'oktoober',\n",
       " 'september',\n",
       " 'november']"
      ]
     },
     "execution_count": 13,
     "metadata": {},
     "output_type": "execute_result"
    }
   ],
   "source": [
    "cn.topic(\"reede\")"
   ]
  },
  {
   "cell_type": "code",
   "execution_count": 14,
   "id": "093a1279",
   "metadata": {},
   "outputs": [
    {
     "data": {
      "text/plain": [
       "[(0.322,\n",
       "  ['eelmine',\n",
       "   'järgmine',\n",
       "   'viimane',\n",
       "   'tulev',\n",
       "   'käesolev',\n",
       "   'uus',\n",
       "   'läinud',\n",
       "   'lõppev',\n",
       "   'terve',\n",
       "   'olnud']),\n",
       " (0.247,\n",
       "  ['järgmine',\n",
       "   'viimane',\n",
       "   'uus',\n",
       "   'eelmine',\n",
       "   'järjekordne',\n",
       "   'tänane',\n",
       "   'hea',\n",
       "   'nahaalne',\n",
       "   'eilne',\n",
       "   'tähtis']),\n",
       " (0.192,\n",
       "  ['läinud',\n",
       "   'eelmine',\n",
       "   'eelolev',\n",
       "   'tulev',\n",
       "   'järgmine',\n",
       "   'ülemöödunud',\n",
       "   'üle-eelmine',\n",
       "   'olnud',\n",
       "   'ülejärgmine',\n",
       "   'pilves']),\n",
       " (0.082,\n",
       "  ['eelmine',\n",
       "   'järgmine',\n",
       "   'viimane',\n",
       "   'terve',\n",
       "   'kogu',\n",
       "   'alanud',\n",
       "   'uus',\n",
       "   'olnud',\n",
       "   'üle-eelmine',\n",
       "   'ülejärgmine']),\n",
       " (0.02,\n",
       "  ['must',\n",
       "   'valge',\n",
       "   'uus',\n",
       "   'suur',\n",
       "   'ühesugune',\n",
       "   'vaimukas',\n",
       "   '9liitrine',\n",
       "   'olnud',\n",
       "   'hea',\n",
       "   'olev']),\n",
       " (0.02,\n",
       "  ['sinine',\n",
       "   'sisselülitatud',\n",
       "   'uus',\n",
       "   'kollane',\n",
       "   'töötav',\n",
       "   'punane',\n",
       "   'modernne',\n",
       "   'lepingueelne',\n",
       "   'lastud',\n",
       "   'maharaiutud']),\n",
       " (0.018,\n",
       "  ['tänane',\n",
       "   'kolmapäevane',\n",
       "   'homne',\n",
       "   'viimane',\n",
       "   'meelas',\n",
       "   'uus',\n",
       "   'toimuv',\n",
       "   'lõhkine',\n",
       "   'peetav',\n",
       "   'laupäevane']),\n",
       " (0.015,\n",
       "  ['järgnev',\n",
       "   'viimane',\n",
       "   'eelmine',\n",
       "   'järgmine',\n",
       "   'eelnev',\n",
       "   'kõnealune',\n",
       "   'veedetud',\n",
       "   'olnud',\n",
       "   'jooksev',\n",
       "   'loetud']),\n",
       " (0.012,\n",
       "  ['suletud',\n",
       "   'kinnine',\n",
       "   'suur',\n",
       "   'uus',\n",
       "   'steriilne',\n",
       "   'välimine',\n",
       "   'sümboliseeriv',\n",
       "   'ookeaniline',\n",
       "   'püstitatav',\n",
       "   'kontinentaalne']),\n",
       " (0.011,\n",
       "  ['terve',\n",
       "   'kaine',\n",
       "   'olnud',\n",
       "   'suur',\n",
       "   'särav',\n",
       "   'vahe',\n",
       "   'loogiline',\n",
       "   'ratsionaalne',\n",
       "   'terane',\n",
       "   'uinuv'])]"
      ]
     },
     "execution_count": 14,
     "metadata": {},
     "output_type": "execute_result"
    }
   ],
   "source": [
    "cn.characterisation(\"esmaspäev\")"
   ]
  },
  {
   "cell_type": "code",
   "execution_count": 15,
   "id": "d8ef51d4",
   "metadata": {},
   "outputs": [
    {
     "data": {
      "text/plain": [
       "[('kange', 0.10680824865174013), ('tugev', 7.497004354818274e-05)]"
      ]
     },
     "execution_count": 15,
     "metadata": {},
     "output_type": "execute_result"
    }
   ],
   "source": [
    "cn.predict(\"kohv\", [\"tugev\", \"kange\"])"
   ]
  },
  {
   "cell_type": "code",
   "execution_count": 16,
   "id": "f578a277",
   "metadata": {},
   "outputs": [
    {
     "data": {
      "text/plain": [
       "[('kofeiinivaba', 0.20864943879101272),\n",
       " ('lahustuv', 0.19025468185819383),\n",
       " ('mittelubatu', 0.17337577992916897),\n",
       " ('maksumärgistamata', 0.16573196706353385),\n",
       " ('filoloogiline', 0.13549952499881776),\n",
       " ('enesekriitiline', 0.13462044313610583),\n",
       " ('9liitrine', 0.12902387713388305),\n",
       " ('aurav', 0.11972026115248807),\n",
       " ('must', 0.10896979291466401),\n",
       " ('kange', 0.10680824865174013)]"
      ]
     },
     "execution_count": 16,
     "metadata": {},
     "output_type": "execute_result"
    }
   ],
   "source": [
    "cn.predict(\"kohv\")"
   ]
  },
  {
   "cell_type": "code",
   "execution_count": 17,
   "id": "f9bf0a3b",
   "metadata": {},
   "outputs": [
    {
     "data": {
      "text/plain": [
       "[('sajune', 0.98128204722568),\n",
       " ('tuisune', 0.9694903626159359),\n",
       " ('päiksepaisteline', 0.9615637301838016),\n",
       " ('tuuletu', 0.9615637301838016),\n",
       " ('tujukas', 0.9342232065542645),\n",
       " ('sombune', 0.8484779414776559),\n",
       " ('tuuline', 0.8067321532976932),\n",
       " ('tuulevaikne', 0.7521246001224285),\n",
       " ('pilves', 0.6326478217343743),\n",
       " ('vilu', 0.6203643919576133)]"
      ]
     },
     "execution_count": 17,
     "metadata": {},
     "output_type": "execute_result"
    }
   ],
   "source": [
    "cn.predict(\"ilm\")"
   ]
  },
  {
   "cell_type": "code",
   "execution_count": 18,
   "id": "b4cd6805",
   "metadata": {},
   "outputs": [
    {
     "data": {
      "text/plain": [
       "[('kehastav', 0.36407770161882497),\n",
       " ('näitlev', 0.35450364457814615),\n",
       " ('sagedaminiesinev', 0.3545036445781282),\n",
       " ('kahepealine', 0.3515577808733634),\n",
       " ('iseõppinud', 0.35155778087335343),\n",
       " ('maaliv', 0.34976922076684897),\n",
       " ('maailmakuulus', 0.3371353435452289),\n",
       " ('teeneline', 0.2742573884146306),\n",
       " ('külmetav', 0.2440790609120226),\n",
       " ('resideeriv', 0.23713591277396437)]"
      ]
     },
     "execution_count": 18,
     "metadata": {},
     "output_type": "execute_result"
    }
   ],
   "source": [
    "cn.predict_for_several([\"laulja\", \"tantsija\", \"näitleja\"])"
   ]
  },
  {
   "cell_type": "code",
   "execution_count": 19,
   "id": "28e1f1fa",
   "metadata": {},
   "outputs": [
    {
     "data": {
      "text/plain": [
       "[('kahetoaline', 0.4589713278382533),\n",
       " ('kolmetoaline', 0.4587494462879928),\n",
       " ('ühetoaline', 0.45866741919715204),\n",
       " ('neljatoaline', 0.45791468482319353),\n",
       " ('2toaline', 0.45636157569712615),\n",
       " ('3toaline', 0.4558914037036481),\n",
       " ('4toaline', 0.4538272339761194),\n",
       " ('viietoaline', 0.4532228599567853),\n",
       " ('1toaline', 0.45076830320853256),\n",
       " ('toaline', 0.4470280262587787)]"
      ]
     },
     "execution_count": 19,
     "metadata": {},
     "output_type": "execute_result"
    }
   ],
   "source": [
    "cn.predict_for_several([\"maja\", \"korter\"])"
   ]
  },
  {
   "cell_type": "code",
   "execution_count": 20,
   "id": "bfaeefe0",
   "metadata": {},
   "outputs": [
    {
     "data": {
      "text/plain": [
       "\"Fraas 'eelmine esmaspäev' on koos kasutatav.\""
      ]
     },
     "execution_count": 20,
     "metadata": {},
     "output_type": "execute_result"
    }
   ],
   "source": [
    "cn.usable_phrase(\"esmaspäev\", \"eelmine\")"
   ]
  },
  {
   "cell_type": "code",
   "execution_count": 21,
   "id": "84da1700",
   "metadata": {},
   "outputs": [
    {
     "data": {
      "text/plain": [
       "\"Fraas 'kollane esmaspäev' ei ole koos kasutatav.\""
      ]
     },
     "execution_count": 21,
     "metadata": {},
     "output_type": "execute_result"
    }
   ],
   "source": [
    "cn.usable_phrase(\"esmaspäev\", \"kollane\")"
   ]
  },
  {
   "cell_type": "code",
   "execution_count": 22,
   "id": "72bfcfc1",
   "metadata": {},
   "outputs": [
    {
     "data": {
      "text/plain": [
       "\"Fraas 'ilus juuni' on koos kasutatav.\""
      ]
     },
     "execution_count": 22,
     "metadata": {},
     "output_type": "execute_result"
    }
   ],
   "source": [
    "cn.usable_phrase(\"juuni\", \"ilus\")"
   ]
  },
  {
   "cell_type": "code",
   "execution_count": 23,
   "id": "cad93c34",
   "metadata": {},
   "outputs": [
    {
     "data": {
      "text/plain": [
       "['kunstnik',\n",
       " 'muusik',\n",
       " 'lavastaja',\n",
       " 'solist',\n",
       " 'kirjanik',\n",
       " 'suusataja',\n",
       " 'luuletaja',\n",
       " 'helilooja',\n",
       " 'jalgpallur',\n",
       " 'artist']"
      ]
     },
     "execution_count": 23,
     "metadata": {},
     "output_type": "execute_result"
    }
   ],
   "source": [
    "cn.similar_nouns_for_list([\"laulja\", \"tantsija\", \"näitleja\"])"
   ]
  },
  {
   "cell_type": "code",
   "execution_count": 24,
   "id": "c247a32e",
   "metadata": {},
   "outputs": [
    {
     "data": {
      "text/plain": [
       "['pruunikas',\n",
       " 'kangendatud',\n",
       " 'täidlane',\n",
       " 'ergas',\n",
       " 'nominaalne',\n",
       " 'lilla',\n",
       " 'kirgas',\n",
       " 'poolpõlenud',\n",
       " 'poolkuiv',\n",
       " 'punakas']"
      ]
     },
     "execution_count": 24,
     "metadata": {},
     "output_type": "execute_result"
    }
   ],
   "source": [
    "cn.similar_adjectives_for_list([\"punane\", \"roosa\", \"valge\"])"
   ]
  },
  {
   "cell_type": "code",
   "execution_count": 26,
   "id": "f53bdfdc",
   "metadata": {},
   "outputs": [
    {
     "data": {
      "text/plain": [
       "[(['hulkuv',\n",
       "   'suur',\n",
       "   'segavereline',\n",
       "   'emane',\n",
       "   'kirju',\n",
       "   'haukuv',\n",
       "   'tige',\n",
       "   'uus',\n",
       "   'marutõbine',\n",
       "   'olnud'],\n",
       "  0.18987435338285508),\n",
       " (['must',\n",
       "   'valge',\n",
       "   'uus',\n",
       "   'suur',\n",
       "   'ühesugune',\n",
       "   'vaimukas',\n",
       "   '9liitrine',\n",
       "   'olnud',\n",
       "   'hea',\n",
       "   'olev'],\n",
       "  0.11458949589094734),\n",
       " (['rikkalik',\n",
       "   'hulkuv',\n",
       "   'magav',\n",
       "   'suur',\n",
       "   'emane',\n",
       "   'paks',\n",
       "   'mitmekesine',\n",
       "   'metsik',\n",
       "   'tark',\n",
       "   'elus'],\n",
       "  0.10540066556082202),\n",
       " (['väike',\n",
       "   'suur',\n",
       "   'pisike',\n",
       "   'uus',\n",
       "   'kromaatiline',\n",
       "   'vähenev',\n",
       "   'hea',\n",
       "   'olnud',\n",
       "   'kuuekeelne',\n",
       "   'vana'],\n",
       "  0.10479687993803816),\n",
       " (['valge',\n",
       "   'redutseeriv',\n",
       "   'kahtlustatud',\n",
       "   'üleliigne',\n",
       "   'punetav',\n",
       "   'kupardamata',\n",
       "   'suur',\n",
       "   'pruunikas',\n",
       "   '40kraadine',\n",
       "   'ekstra'],\n",
       "  0.09063913682912057),\n",
       " (['suur',\n",
       "   'mõtteline',\n",
       "   'väike',\n",
       "   'tühine',\n",
       "   'veepealne',\n",
       "   'kaduvväike',\n",
       "   'sõnaline',\n",
       "   'puutetundlik',\n",
       "   'arvutu',\n",
       "   'veealune'],\n",
       "  0.0763653621035635),\n",
       " (['elus',\n",
       "   'püütud',\n",
       "   'alamõõduline',\n",
       "   'vana',\n",
       "   'rasvane',\n",
       "   'toores',\n",
       "   'ettenähtud',\n",
       "   'värske',\n",
       "   'põhjalähedane',\n",
       "   'ujuv'],\n",
       "  0.07121930028318489),\n",
       " (['karm',\n",
       "   'virtuaalne',\n",
       "   'objektiivne',\n",
       "   'ümbritsev',\n",
       "   'uus',\n",
       "   'kurb',\n",
       "   'geopoliitiline',\n",
       "   'paratamatu',\n",
       "   'tajutav',\n",
       "   'käegakatsutav'],\n",
       "  0.06579416885973535),\n",
       " (['kodutu',\n",
       "   'asuv',\n",
       "   'mitteõigeaegne',\n",
       "   'ajutine',\n",
       "   'mõeldud',\n",
       "   'tolerantne',\n",
       "   'tervistkahjustav',\n",
       "   'lenduv',\n",
       "   'valev',\n",
       "   'üldtuntud'],\n",
       "  0.04486269436516585),\n",
       " (['vana',\n",
       "   'uus',\n",
       "   'suur',\n",
       "   'olnud',\n",
       "   'põhjaeestikeelne',\n",
       "   'hea',\n",
       "   'olev',\n",
       "   'väike',\n",
       "   'praegune',\n",
       "   'erinev'],\n",
       "  0.01912031679465994)]"
      ]
     },
     "execution_count": 26,
     "metadata": {},
     "output_type": "execute_result"
    }
   ],
   "source": [
    "cn.predict_topic_for_several(['kass', 'koer', 'jänes'])"
   ]
  }
 ],
 "metadata": {
  "kernelspec": {
   "display_name": "Python 3",
   "language": "python",
   "name": "python3"
  },
  "language_info": {
   "codemirror_mode": {
    "name": "ipython",
    "version": 3
   },
   "file_extension": ".py",
   "mimetype": "text/x-python",
   "name": "python",
   "nbconvert_exporter": "python",
   "pygments_lexer": "ipython3",
   "version": "3.6.13"
  }
 },
 "nbformat": 4,
 "nbformat_minor": 5
}
