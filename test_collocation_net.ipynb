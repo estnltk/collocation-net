{
 "cells": [
  {
   "cell_type": "code",
   "execution_count": 2,
   "id": "4eab2deb",
   "metadata": {},
   "outputs": [],
   "source": [
    "from collocation_net import CollocationNet"
   ]
  },
  {
   "cell_type": "code",
   "execution_count": 3,
   "id": "6297879d",
   "metadata": {},
   "outputs": [],
   "source": [
    "cn = CollocationNet()"
   ]
  },
  {
   "cell_type": "code",
   "execution_count": 4,
   "id": "b0409651",
   "metadata": {},
   "outputs": [
    {
     "data": {
      "text/html": [
       "<div>\n",
       "<style scoped>\n",
       "    .dataframe tbody tr th:only-of-type {\n",
       "        vertical-align: middle;\n",
       "    }\n",
       "\n",
       "    .dataframe tbody tr th {\n",
       "        vertical-align: top;\n",
       "    }\n",
       "\n",
       "    .dataframe thead th {\n",
       "        text-align: right;\n",
       "    }\n",
       "</style>\n",
       "<table border=\"1\" class=\"dataframe\">\n",
       "  <thead>\n",
       "    <tr style=\"text-align: right;\">\n",
       "      <th></th>\n",
       "      <th>eelmine</th>\n",
       "      <th>järgmine</th>\n",
       "      <th>viimane</th>\n",
       "      <th>käesolev</th>\n",
       "      <th>kogu</th>\n",
       "      <th>kohalik</th>\n",
       "      <th>suur</th>\n",
       "      <th>pikk</th>\n",
       "      <th>juriidiline</th>\n",
       "      <th>tulev</th>\n",
       "      <th>...</th>\n",
       "      <th>realiseeritav</th>\n",
       "      <th>valgustatav</th>\n",
       "      <th>vajuv</th>\n",
       "      <th>väikesekasvuline</th>\n",
       "      <th>väikeseformaadiline</th>\n",
       "      <th>õlirikas</th>\n",
       "      <th>õigusetu</th>\n",
       "      <th>oletuslik</th>\n",
       "      <th>raugematu</th>\n",
       "      <th>raudteeäärne</th>\n",
       "    </tr>\n",
       "  </thead>\n",
       "  <tbody>\n",
       "    <tr>\n",
       "      <th>aasta</th>\n",
       "      <td>53250</td>\n",
       "      <td>38107</td>\n",
       "      <td>24410</td>\n",
       "      <td>11753</td>\n",
       "      <td>1115</td>\n",
       "      <td>40</td>\n",
       "      <td>114</td>\n",
       "      <td>1562</td>\n",
       "      <td>0</td>\n",
       "      <td>12634</td>\n",
       "      <td>...</td>\n",
       "      <td>0</td>\n",
       "      <td>0</td>\n",
       "      <td>0</td>\n",
       "      <td>0</td>\n",
       "      <td>0</td>\n",
       "      <td>0</td>\n",
       "      <td>0</td>\n",
       "      <td>0</td>\n",
       "      <td>0</td>\n",
       "      <td>0</td>\n",
       "    </tr>\n",
       "    <tr>\n",
       "      <th>aeg</th>\n",
       "      <td>75</td>\n",
       "      <td>65</td>\n",
       "      <td>27915</td>\n",
       "      <td>1227</td>\n",
       "      <td>24997</td>\n",
       "      <td>1373</td>\n",
       "      <td>194</td>\n",
       "      <td>14913</td>\n",
       "      <td>0</td>\n",
       "      <td>18</td>\n",
       "      <td>...</td>\n",
       "      <td>0</td>\n",
       "      <td>0</td>\n",
       "      <td>0</td>\n",
       "      <td>0</td>\n",
       "      <td>0</td>\n",
       "      <td>0</td>\n",
       "      <td>0</td>\n",
       "      <td>0</td>\n",
       "      <td>0</td>\n",
       "      <td>0</td>\n",
       "    </tr>\n",
       "    <tr>\n",
       "      <th>määrus</th>\n",
       "      <td>16</td>\n",
       "      <td>110</td>\n",
       "      <td>17</td>\n",
       "      <td>27514</td>\n",
       "      <td>30</td>\n",
       "      <td>0</td>\n",
       "      <td>0</td>\n",
       "      <td>0</td>\n",
       "      <td>0</td>\n",
       "      <td>0</td>\n",
       "      <td>...</td>\n",
       "      <td>0</td>\n",
       "      <td>0</td>\n",
       "      <td>0</td>\n",
       "      <td>0</td>\n",
       "      <td>0</td>\n",
       "      <td>0</td>\n",
       "      <td>0</td>\n",
       "      <td>0</td>\n",
       "      <td>0</td>\n",
       "      <td>0</td>\n",
       "    </tr>\n",
       "    <tr>\n",
       "      <th>omavalitsus</th>\n",
       "      <td>30</td>\n",
       "      <td>67</td>\n",
       "      <td>44</td>\n",
       "      <td>0</td>\n",
       "      <td>31</td>\n",
       "      <td>24261</td>\n",
       "      <td>84</td>\n",
       "      <td>0</td>\n",
       "      <td>12</td>\n",
       "      <td>0</td>\n",
       "      <td>...</td>\n",
       "      <td>0</td>\n",
       "      <td>0</td>\n",
       "      <td>0</td>\n",
       "      <td>0</td>\n",
       "      <td>0</td>\n",
       "      <td>0</td>\n",
       "      <td>0</td>\n",
       "      <td>0</td>\n",
       "      <td>0</td>\n",
       "      <td>0</td>\n",
       "    </tr>\n",
       "    <tr>\n",
       "      <th>osa</th>\n",
       "      <td>201</td>\n",
       "      <td>436</td>\n",
       "      <td>918</td>\n",
       "      <td>118</td>\n",
       "      <td>51</td>\n",
       "      <td>10</td>\n",
       "      <td>22165</td>\n",
       "      <td>25</td>\n",
       "      <td>0</td>\n",
       "      <td>17</td>\n",
       "      <td>...</td>\n",
       "      <td>0</td>\n",
       "      <td>0</td>\n",
       "      <td>0</td>\n",
       "      <td>0</td>\n",
       "      <td>0</td>\n",
       "      <td>0</td>\n",
       "      <td>0</td>\n",
       "      <td>0</td>\n",
       "      <td>0</td>\n",
       "      <td>0</td>\n",
       "    </tr>\n",
       "    <tr>\n",
       "      <th>...</th>\n",
       "      <td>...</td>\n",
       "      <td>...</td>\n",
       "      <td>...</td>\n",
       "      <td>...</td>\n",
       "      <td>...</td>\n",
       "      <td>...</td>\n",
       "      <td>...</td>\n",
       "      <td>...</td>\n",
       "      <td>...</td>\n",
       "      <td>...</td>\n",
       "      <td>...</td>\n",
       "      <td>...</td>\n",
       "      <td>...</td>\n",
       "      <td>...</td>\n",
       "      <td>...</td>\n",
       "      <td>...</td>\n",
       "      <td>...</td>\n",
       "      <td>...</td>\n",
       "      <td>...</td>\n",
       "      <td>...</td>\n",
       "      <td>...</td>\n",
       "    </tr>\n",
       "    <tr>\n",
       "      <th>kuumalaine</th>\n",
       "      <td>0</td>\n",
       "      <td>0</td>\n",
       "      <td>0</td>\n",
       "      <td>0</td>\n",
       "      <td>0</td>\n",
       "      <td>0</td>\n",
       "      <td>0</td>\n",
       "      <td>0</td>\n",
       "      <td>0</td>\n",
       "      <td>0</td>\n",
       "      <td>...</td>\n",
       "      <td>0</td>\n",
       "      <td>0</td>\n",
       "      <td>0</td>\n",
       "      <td>0</td>\n",
       "      <td>0</td>\n",
       "      <td>0</td>\n",
       "      <td>0</td>\n",
       "      <td>0</td>\n",
       "      <td>0</td>\n",
       "      <td>0</td>\n",
       "    </tr>\n",
       "    <tr>\n",
       "      <th>võidukäik</th>\n",
       "      <td>0</td>\n",
       "      <td>0</td>\n",
       "      <td>0</td>\n",
       "      <td>0</td>\n",
       "      <td>0</td>\n",
       "      <td>0</td>\n",
       "      <td>10</td>\n",
       "      <td>0</td>\n",
       "      <td>0</td>\n",
       "      <td>0</td>\n",
       "      <td>...</td>\n",
       "      <td>0</td>\n",
       "      <td>0</td>\n",
       "      <td>0</td>\n",
       "      <td>0</td>\n",
       "      <td>0</td>\n",
       "      <td>0</td>\n",
       "      <td>0</td>\n",
       "      <td>0</td>\n",
       "      <td>0</td>\n",
       "      <td>0</td>\n",
       "    </tr>\n",
       "    <tr>\n",
       "      <th>balletitantsija</th>\n",
       "      <td>0</td>\n",
       "      <td>0</td>\n",
       "      <td>0</td>\n",
       "      <td>0</td>\n",
       "      <td>0</td>\n",
       "      <td>0</td>\n",
       "      <td>0</td>\n",
       "      <td>0</td>\n",
       "      <td>0</td>\n",
       "      <td>0</td>\n",
       "      <td>...</td>\n",
       "      <td>0</td>\n",
       "      <td>0</td>\n",
       "      <td>0</td>\n",
       "      <td>0</td>\n",
       "      <td>0</td>\n",
       "      <td>0</td>\n",
       "      <td>0</td>\n",
       "      <td>0</td>\n",
       "      <td>0</td>\n",
       "      <td>0</td>\n",
       "    </tr>\n",
       "    <tr>\n",
       "      <th>rõhutamine</th>\n",
       "      <td>0</td>\n",
       "      <td>0</td>\n",
       "      <td>0</td>\n",
       "      <td>0</td>\n",
       "      <td>0</td>\n",
       "      <td>0</td>\n",
       "      <td>0</td>\n",
       "      <td>0</td>\n",
       "      <td>0</td>\n",
       "      <td>0</td>\n",
       "      <td>...</td>\n",
       "      <td>0</td>\n",
       "      <td>0</td>\n",
       "      <td>0</td>\n",
       "      <td>0</td>\n",
       "      <td>0</td>\n",
       "      <td>0</td>\n",
       "      <td>0</td>\n",
       "      <td>0</td>\n",
       "      <td>0</td>\n",
       "      <td>0</td>\n",
       "    </tr>\n",
       "    <tr>\n",
       "      <th>lisavarustus</th>\n",
       "      <td>0</td>\n",
       "      <td>0</td>\n",
       "      <td>0</td>\n",
       "      <td>0</td>\n",
       "      <td>10</td>\n",
       "      <td>0</td>\n",
       "      <td>0</td>\n",
       "      <td>0</td>\n",
       "      <td>0</td>\n",
       "      <td>0</td>\n",
       "      <td>...</td>\n",
       "      <td>0</td>\n",
       "      <td>0</td>\n",
       "      <td>0</td>\n",
       "      <td>0</td>\n",
       "      <td>0</td>\n",
       "      <td>0</td>\n",
       "      <td>0</td>\n",
       "      <td>0</td>\n",
       "      <td>0</td>\n",
       "      <td>0</td>\n",
       "    </tr>\n",
       "  </tbody>\n",
       "</table>\n",
       "<p>5817 rows × 7358 columns</p>\n",
       "</div>"
      ],
      "text/plain": [
       "                 eelmine  järgmine  viimane  käesolev   kogu  kohalik   suur  \\\n",
       "aasta              53250     38107    24410     11753   1115       40    114   \n",
       "aeg                   75        65    27915      1227  24997     1373    194   \n",
       "määrus                16       110       17     27514     30        0      0   \n",
       "omavalitsus           30        67       44         0     31    24261     84   \n",
       "osa                  201       436      918       118     51       10  22165   \n",
       "...                  ...       ...      ...       ...    ...      ...    ...   \n",
       "kuumalaine             0         0        0         0      0        0      0   \n",
       "võidukäik              0         0        0         0      0        0     10   \n",
       "balletitantsija        0         0        0         0      0        0      0   \n",
       "rõhutamine             0         0        0         0      0        0      0   \n",
       "lisavarustus           0         0        0         0     10        0      0   \n",
       "\n",
       "                  pikk  juriidiline  tulev  ...  realiseeritav  valgustatav  \\\n",
       "aasta             1562            0  12634  ...              0            0   \n",
       "aeg              14913            0     18  ...              0            0   \n",
       "määrus               0            0      0  ...              0            0   \n",
       "omavalitsus          0           12      0  ...              0            0   \n",
       "osa                 25            0     17  ...              0            0   \n",
       "...                ...          ...    ...  ...            ...          ...   \n",
       "kuumalaine           0            0      0  ...              0            0   \n",
       "võidukäik            0            0      0  ...              0            0   \n",
       "balletitantsija      0            0      0  ...              0            0   \n",
       "rõhutamine           0            0      0  ...              0            0   \n",
       "lisavarustus         0            0      0  ...              0            0   \n",
       "\n",
       "                 vajuv  väikesekasvuline  väikeseformaadiline  õlirikas  \\\n",
       "aasta                0                 0                    0         0   \n",
       "aeg                  0                 0                    0         0   \n",
       "määrus               0                 0                    0         0   \n",
       "omavalitsus          0                 0                    0         0   \n",
       "osa                  0                 0                    0         0   \n",
       "...                ...               ...                  ...       ...   \n",
       "kuumalaine           0                 0                    0         0   \n",
       "võidukäik            0                 0                    0         0   \n",
       "balletitantsija      0                 0                    0         0   \n",
       "rõhutamine           0                 0                    0         0   \n",
       "lisavarustus         0                 0                    0         0   \n",
       "\n",
       "                 õigusetu  oletuslik  raugematu  raudteeäärne  \n",
       "aasta                   0          0          0             0  \n",
       "aeg                     0          0          0             0  \n",
       "määrus                  0          0          0             0  \n",
       "omavalitsus             0          0          0             0  \n",
       "osa                     0          0          0             0  \n",
       "...                   ...        ...        ...           ...  \n",
       "kuumalaine              0          0          0             0  \n",
       "võidukäik               0          0          0             0  \n",
       "balletitantsija         0          0          0             0  \n",
       "rõhutamine              0          0          0             0  \n",
       "lisavarustus            0          0          0             0  \n",
       "\n",
       "[5817 rows x 7358 columns]"
      ]
     },
     "execution_count": 4,
     "metadata": {},
     "output_type": "execute_result"
    }
   ],
   "source": [
    "cn.data"
   ]
  },
  {
   "cell_type": "code",
   "execution_count": 5,
   "id": "b32a6fb9",
   "metadata": {},
   "outputs": [
    {
     "data": {
      "text/plain": [
       "['latern',\n",
       " 'tellis',\n",
       " 'rist',\n",
       " 'kurat',\n",
       " 'rätt',\n",
       " 'paprika',\n",
       " 'roos',\n",
       " 'rätik',\n",
       " 'foorituli',\n",
       " 'sõstar']"
      ]
     },
     "execution_count": 5,
     "metadata": {},
     "output_type": "execute_result"
    }
   ],
   "source": [
    "cn.get_nouns_used_with(\"punane\")"
   ]
  },
  {
   "cell_type": "code",
   "execution_count": 6,
   "id": "08250429",
   "metadata": {},
   "outputs": [
    {
     "data": {
      "text/plain": [
       "['punane',\n",
       " 'valge',\n",
       " 'uus',\n",
       " 'tulipunane',\n",
       " 'suur',\n",
       " 'väikeseõieline',\n",
       " 'süüdatud',\n",
       " 'suureõieline',\n",
       " 'tumepunane',\n",
       " 'hõõguv']"
      ]
     },
     "execution_count": 6,
     "metadata": {},
     "output_type": "execute_result"
    }
   ],
   "source": [
    "cn.get_adjectives_used_with(\"roos\")"
   ]
  },
  {
   "cell_type": "code",
   "execution_count": 7,
   "id": "64b81a76",
   "metadata": {},
   "outputs": [
    {
     "ename": "CollocationNetException",
     "evalue": "Word 'hehe' not in dataset",
     "output_type": "error",
     "traceback": [
      "\u001b[1;31m---------------------------------------------------------------------------\u001b[0m",
      "\u001b[1;31mCollocationNetException\u001b[0m                   Traceback (most recent call last)",
      "\u001b[1;32m<ipython-input-7-45ecd96c776b>\u001b[0m in \u001b[0;36m<module>\u001b[1;34m\u001b[0m\n\u001b[1;32m----> 1\u001b[1;33m \u001b[0mcn\u001b[0m\u001b[1;33m.\u001b[0m\u001b[0mget_adjectives_used_with\u001b[0m\u001b[1;33m(\u001b[0m\u001b[1;34m\"hehe\"\u001b[0m\u001b[1;33m)\u001b[0m\u001b[1;33m\u001b[0m\u001b[1;33m\u001b[0m\u001b[0m\n\u001b[0m",
      "\u001b[1;32m~\\Documents\\noun-adj-classification\\collocation_net.py\u001b[0m in \u001b[0;36mget_adjectives_used_with\u001b[1;34m(self, word, number_of_words)\u001b[0m\n\u001b[0;32m     60\u001b[0m \u001b[1;33m\u001b[0m\u001b[0m\n\u001b[0;32m     61\u001b[0m         \u001b[1;32mif\u001b[0m \u001b[0mword_index\u001b[0m \u001b[1;33m==\u001b[0m \u001b[1;33m-\u001b[0m\u001b[1;36m1\u001b[0m\u001b[1;33m:\u001b[0m\u001b[1;33m\u001b[0m\u001b[1;33m\u001b[0m\u001b[0m\n\u001b[1;32m---> 62\u001b[1;33m             \u001b[1;32mraise\u001b[0m \u001b[0mCollocationNetException\u001b[0m\u001b[1;33m(\u001b[0m\u001b[1;34mf\"Word '{word}' not in dataset\"\u001b[0m\u001b[1;33m)\u001b[0m\u001b[1;33m\u001b[0m\u001b[1;33m\u001b[0m\u001b[0m\n\u001b[0m\u001b[0;32m     63\u001b[0m \u001b[1;33m\u001b[0m\u001b[0m\n\u001b[0;32m     64\u001b[0m         \u001b[0mnoun_topic\u001b[0m \u001b[1;33m=\u001b[0m \u001b[0mself\u001b[0m\u001b[1;33m.\u001b[0m\u001b[0mnoun_dist\u001b[0m\u001b[1;33m[\u001b[0m\u001b[0mword_index\u001b[0m\u001b[1;33m]\u001b[0m\u001b[1;33m.\u001b[0m\u001b[0margmax\u001b[0m\u001b[1;33m(\u001b[0m\u001b[1;33m)\u001b[0m\u001b[1;33m\u001b[0m\u001b[1;33m\u001b[0m\u001b[0m\n",
      "\u001b[1;31mCollocationNetException\u001b[0m: Word 'hehe' not in dataset"
     ]
    }
   ],
   "source": [
    "cn.get_adjectives_used_with(\"hehe\")"
   ]
  },
  {
   "cell_type": "code",
   "execution_count": 8,
   "id": "ee1b48c5",
   "metadata": {},
   "outputs": [
    {
     "data": {
      "text/plain": [
       "['hooaeg',\n",
       " 'teisipäev',\n",
       " 'nädal',\n",
       " 'tali',\n",
       " 'õppeaasta',\n",
       " 'turustusaasta',\n",
       " 'sajand',\n",
       " 'sügis',\n",
       " 'kokkusaamine',\n",
       " 'kütteperiood']"
      ]
     },
     "execution_count": 8,
     "metadata": {},
     "output_type": "execute_result"
    }
   ],
   "source": [
    "cn.get_similar_nouns(\"esmaspäev\")"
   ]
  },
  {
   "cell_type": "code",
   "execution_count": 9,
   "id": "23a05fe6",
   "metadata": {},
   "outputs": [
    {
     "data": {
      "text/plain": [
       "['hapu',\n",
       " 'lõhnav',\n",
       " 'lilla',\n",
       " 'kuldkollane',\n",
       " 'kangendatud',\n",
       " 'kirgas',\n",
       " 'nominaalne',\n",
       " 'täidlane',\n",
       " 'pruunikas',\n",
       " 'oranzh']"
      ]
     },
     "execution_count": 9,
     "metadata": {},
     "output_type": "execute_result"
    }
   ],
   "source": [
    "cn.get_similar_adjectives(\"roosa\")"
   ]
  },
  {
   "cell_type": "code",
   "execution_count": 10,
   "id": "7587a755",
   "metadata": {},
   "outputs": [
    {
     "data": {
      "text/plain": [
       "['aasta', 'hooaeg', 'sajand', 'esmaspäev']"
      ]
     },
     "execution_count": 10,
     "metadata": {},
     "output_type": "execute_result"
    }
   ],
   "source": [
    "cn.topic(\"esmaspäev\")"
   ]
  },
  {
   "cell_type": "code",
   "execution_count": 11,
   "id": "12876500",
   "metadata": {},
   "outputs": [
    {
     "data": {
      "text/plain": [
       "['reede',\n",
       " 'sügis',\n",
       " 'nädalavahetus',\n",
       " 'kolmapäev',\n",
       " 'teisipäev',\n",
       " 'laupäev',\n",
       " 'pühapäev',\n",
       " 'nädalalõpp',\n",
       " 'detsember',\n",
       " 'oktoober',\n",
       " 'september',\n",
       " 'november']"
      ]
     },
     "execution_count": 11,
     "metadata": {},
     "output_type": "execute_result"
    }
   ],
   "source": [
    "cn.topic(\"reede\")"
   ]
  },
  {
   "cell_type": "code",
   "execution_count": 12,
   "id": "093a1279",
   "metadata": {},
   "outputs": [
    {
     "data": {
      "text/plain": [
       "[(0.322,\n",
       "  ['eelmine',\n",
       "   'järgmine',\n",
       "   'viimane',\n",
       "   'tulev',\n",
       "   'käesolev',\n",
       "   'uus',\n",
       "   'läinud',\n",
       "   'lõppev',\n",
       "   'terve',\n",
       "   'olnud']),\n",
       " (0.247,\n",
       "  ['järgmine',\n",
       "   'viimane',\n",
       "   'uus',\n",
       "   'eelmine',\n",
       "   'järjekordne',\n",
       "   'tänane',\n",
       "   'hea',\n",
       "   'nahaalne',\n",
       "   'eilne',\n",
       "   'tähtis']),\n",
       " (0.192,\n",
       "  ['läinud',\n",
       "   'eelmine',\n",
       "   'eelolev',\n",
       "   'tulev',\n",
       "   'järgmine',\n",
       "   'ülemöödunud',\n",
       "   'üle-eelmine',\n",
       "   'olnud',\n",
       "   'ülejärgmine',\n",
       "   'pilves']),\n",
       " (0.082,\n",
       "  ['eelmine',\n",
       "   'järgmine',\n",
       "   'viimane',\n",
       "   'terve',\n",
       "   'kogu',\n",
       "   'alanud',\n",
       "   'uus',\n",
       "   'olnud',\n",
       "   'üle-eelmine',\n",
       "   'ülejärgmine']),\n",
       " (0.02,\n",
       "  ['must',\n",
       "   'valge',\n",
       "   'uus',\n",
       "   'suur',\n",
       "   'ühesugune',\n",
       "   'vaimukas',\n",
       "   '9liitrine',\n",
       "   'olnud',\n",
       "   'hea',\n",
       "   'olev']),\n",
       " (0.02,\n",
       "  ['sinine',\n",
       "   'sisselülitatud',\n",
       "   'uus',\n",
       "   'kollane',\n",
       "   'töötav',\n",
       "   'punane',\n",
       "   'modernne',\n",
       "   'lepingueelne',\n",
       "   'lastud',\n",
       "   'maharaiutud']),\n",
       " (0.018,\n",
       "  ['tänane',\n",
       "   'kolmapäevane',\n",
       "   'homne',\n",
       "   'viimane',\n",
       "   'meelas',\n",
       "   'uus',\n",
       "   'toimuv',\n",
       "   'lõhkine',\n",
       "   'peetav',\n",
       "   'laupäevane']),\n",
       " (0.015,\n",
       "  ['järgnev',\n",
       "   'viimane',\n",
       "   'eelmine',\n",
       "   'järgmine',\n",
       "   'eelnev',\n",
       "   'kõnealune',\n",
       "   'veedetud',\n",
       "   'olnud',\n",
       "   'jooksev',\n",
       "   'loetud']),\n",
       " (0.012,\n",
       "  ['suletud',\n",
       "   'kinnine',\n",
       "   'suur',\n",
       "   'uus',\n",
       "   'steriilne',\n",
       "   'välimine',\n",
       "   'sümboliseeriv',\n",
       "   'ookeaniline',\n",
       "   'püstitatav',\n",
       "   'kontinentaalne']),\n",
       " (0.011,\n",
       "  ['terve',\n",
       "   'kaine',\n",
       "   'olnud',\n",
       "   'suur',\n",
       "   'särav',\n",
       "   'vahe',\n",
       "   'loogiline',\n",
       "   'ratsionaalne',\n",
       "   'terane',\n",
       "   'uinuv'])]"
      ]
     },
     "execution_count": 12,
     "metadata": {},
     "output_type": "execute_result"
    }
   ],
   "source": [
    "cn.characterisation(\"esmaspäev\")"
   ]
  },
  {
   "cell_type": "code",
   "execution_count": 28,
   "id": "d8ef51d4",
   "metadata": {},
   "outputs": [
    {
     "data": {
      "text/plain": [
       "['kange', 'tugev']"
      ]
     },
     "execution_count": 28,
     "metadata": {},
     "output_type": "execute_result"
    }
   ],
   "source": [
    "cn.predict(\"kohv\", [\"tugev\", \"kange\"])"
   ]
  },
  {
   "cell_type": "code",
   "execution_count": 30,
   "id": "5cf8761e",
   "metadata": {},
   "outputs": [
    {
     "data": {
      "text/plain": [
       "[]"
      ]
     },
     "execution_count": 30,
     "metadata": {},
     "output_type": "execute_result"
    }
   ],
   "source": [
    "cn.predict(\"kohv\", [\"1\", \"2\"])"
   ]
  },
  {
   "cell_type": "code",
   "execution_count": 13,
   "id": "bfaeefe0",
   "metadata": {},
   "outputs": [
    {
     "data": {
      "text/plain": [
       "\"Fraas 'eelmine esmaspäev' on koos kasutatav.\""
      ]
     },
     "execution_count": 13,
     "metadata": {},
     "output_type": "execute_result"
    }
   ],
   "source": [
    "cn.usable_phrase(\"esmaspäev\", \"eelmine\")"
   ]
  },
  {
   "cell_type": "code",
   "execution_count": 14,
   "id": "84da1700",
   "metadata": {},
   "outputs": [
    {
     "data": {
      "text/plain": [
       "\"Fraas 'kollane esmaspäev' ei ole koos kasutatav.\""
      ]
     },
     "execution_count": 14,
     "metadata": {},
     "output_type": "execute_result"
    }
   ],
   "source": [
    "cn.usable_phrase(\"esmaspäev\", \"kollane\")"
   ]
  },
  {
   "cell_type": "code",
   "execution_count": 15,
   "id": "72bfcfc1",
   "metadata": {},
   "outputs": [
    {
     "data": {
      "text/plain": [
       "\"Fraas 'ilus juuni' on koos kasutatav.\""
      ]
     },
     "execution_count": 15,
     "metadata": {},
     "output_type": "execute_result"
    }
   ],
   "source": [
    "cn.usable_phrase(\"juuni\", \"ilus\")"
   ]
  },
  {
   "cell_type": "code",
   "execution_count": 68,
   "id": "cad93c34",
   "metadata": {},
   "outputs": [
    {
     "data": {
      "text/plain": [
       "'kunstnik'"
      ]
     },
     "execution_count": 68,
     "metadata": {},
     "output_type": "execute_result"
    }
   ],
   "source": [
    "cn.similar_noun_for_list([\"laulja\", \"tantsija\", \"näitleja\"])"
   ]
  },
  {
   "cell_type": "code",
   "execution_count": 76,
   "id": "c247a32e",
   "metadata": {},
   "outputs": [
    {
     "data": {
      "text/plain": [
       "'pruunikas'"
      ]
     },
     "execution_count": 76,
     "metadata": {},
     "output_type": "execute_result"
    }
   ],
   "source": [
    "cn.similar_adjective_for_list([\"punane\", \"roosa\", \"valge\"])"
   ]
  },
  {
   "cell_type": "code",
   "execution_count": 85,
   "id": "8847db11",
   "metadata": {},
   "outputs": [
    {
     "data": {
      "text/plain": [
       "'noor'"
      ]
     },
     "execution_count": 85,
     "metadata": {},
     "output_type": "execute_result"
    }
   ],
   "source": [
    "cn.predict_for_several([\"laulja\", \"tantsija\", \"näitleja\"])"
   ]
  }
 ],
 "metadata": {
  "kernelspec": {
   "display_name": "Python 3",
   "language": "python",
   "name": "python3"
  },
  "language_info": {
   "codemirror_mode": {
    "name": "ipython",
    "version": 3
   },
   "file_extension": ".py",
   "mimetype": "text/x-python",
   "name": "python",
   "nbconvert_exporter": "python",
   "pygments_lexer": "ipython3",
   "version": "3.6.13"
  }
 },
 "nbformat": 4,
 "nbformat_minor": 5
}
