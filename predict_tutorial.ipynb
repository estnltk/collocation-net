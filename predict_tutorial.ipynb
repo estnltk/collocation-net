{
 "cells": [
  {
   "cell_type": "markdown",
   "id": "01b947db",
   "metadata": {},
   "source": [
    "# Tutorial for the CollocationNet prediction"
   ]
  },
  {
   "cell_type": "markdown",
   "id": "4fdf15c3",
   "metadata": {},
   "source": [
    "This tutorial shows how to use the predict function in CollocationNet to predict which adjectives (from a given list of adjectives) are most likely to describe the given noun. In the example we will use 'kohv' for the noun and ['kange', 'tugev'] for the list of adjectives to predict which of the two adjectives is more likely to describe 'kohv'."
   ]
  },
  {
   "cell_type": "markdown",
   "id": "da3e61d9",
   "metadata": {},
   "source": [
    "### The usage of predict in CollocationNet"
   ]
  },
  {
   "cell_type": "markdown",
   "id": "f4b2d859",
   "metadata": {},
   "source": [
    "To predict the order of likely adjectives for the noun, we first need to import CollocationNet and create a CollocationNet object:"
   ]
  },
  {
   "cell_type": "code",
   "execution_count": 1,
   "id": "5d43402a",
   "metadata": {},
   "outputs": [],
   "source": [
    "from collocation_net import CollocationNet"
   ]
  },
  {
   "cell_type": "code",
   "execution_count": 2,
   "id": "8518477b",
   "metadata": {},
   "outputs": [],
   "source": [
    "cn = CollocationNet()"
   ]
  },
  {
   "cell_type": "markdown",
   "id": "235144f8",
   "metadata": {},
   "source": [
    "Then we can use the prediction function in the following way:"
   ]
  },
  {
   "cell_type": "code",
   "execution_count": 3,
   "id": "69edef7f",
   "metadata": {},
   "outputs": [
    {
     "data": {
      "text/plain": [
       "[('kange', 0.10684924723040845), ('tugev', 7.489607178763322e-05)]"
      ]
     },
     "execution_count": 3,
     "metadata": {},
     "output_type": "execute_result"
    }
   ],
   "source": [
    "cn.predict(noun='kohv', adjectives=['kange', 'tugev'])"
   ]
  },
  {
   "cell_type": "markdown",
   "id": "8ad0979b",
   "metadata": {},
   "source": [
    "As we can see, the predict function returns an ordered list where each element is a tuple consisting of an adjective and a probability for the adjective to describe the given noun. For this example we see that the collocation 'kange kohv' is more likely than 'tugev kohv'."
   ]
  },
  {
   "cell_type": "markdown",
   "id": "b6458b6c",
   "metadata": {},
   "source": [
    "### Manual calculation of the results"
   ]
  },
  {
   "cell_type": "markdown",
   "id": "aaa5aee7",
   "metadata": {},
   "source": [
    "Let's first import the modules necessary for the calculations."
   ]
  },
  {
   "cell_type": "code",
   "execution_count": 4,
   "id": "8ef05e0f",
   "metadata": {},
   "outputs": [],
   "source": [
    "import scipy\n",
    "import numpy as np"
   ]
  },
  {
   "cell_type": "markdown",
   "id": "a1476af2",
   "metadata": {},
   "source": [
    "To obtain the data that CollocationNet is built on, a Latent Dirichlet Allocation (LDA) model was trained using a dataset of noun-adjective collocations from a corpus. The LDA model divides the data into clusters and outputs matrices corresponding to the noun and adjective distributions that describe the distribution between the clusters."
   ]
  },
  {
   "cell_type": "markdown",
   "id": "7a2d4ae7",
   "metadata": {},
   "source": [
    "The data obtained from the LDA model doesn't have words linked so let's first find the indices of the noun and adjectives to find the vectors that correspond to them. We can do that using the dataset in CollocationNet."
   ]
  },
  {
   "cell_type": "code",
   "execution_count": 5,
   "id": "9dc18507",
   "metadata": {},
   "outputs": [
    {
     "name": "stdout",
     "output_type": "stream",
     "text": [
      "1505 127 73\n"
     ]
    }
   ],
   "source": [
    "data = cn.data\n",
    "kohv_idx = list(data.index).index('kohv')\n",
    "kange_idx = list(data.columns).index('kange')\n",
    "tugev_idx = list(data.columns).index('tugev')\n",
    "print(kohv_idx, kange_idx, tugev_idx)"
   ]
  },
  {
   "cell_type": "markdown",
   "id": "648da329",
   "metadata": {},
   "source": [
    "The matrix of distribution between topics for nouns includes a vector of probabilities for each noun which showcases the probabilities of a certain noun belonging to different topics. The distribution matrix of adjectives includes pseudocounts which show how much each adjective was assigned to each topic."
   ]
  },
  {
   "cell_type": "code",
   "execution_count": 6,
   "id": "5f2b53df",
   "metadata": {},
   "outputs": [
    {
     "name": "stdout",
     "output_type": "stream",
     "text": [
      "(5817, 1000) (1000, 7358)\n"
     ]
    }
   ],
   "source": [
    "noun_dist = cn.noun_dist\n",
    "adj_dist = cn.adj_dist\n",
    "print(noun_dist.shape, adj_dist.shape)"
   ]
  },
  {
   "cell_type": "markdown",
   "id": "d5817f87",
   "metadata": {},
   "source": [
    "To calculate the probabilities of each adjective forming a collocation with the given noun, first we need to sample variables from the Dirichlet' distribution. We need a variable for each element of the vectors corresponding to the adjectives and their pseudocounts in topics. Since our model has 1000 topics, we will sample 1000 variables for each adjective using the vector obtained from the model. For practical approximation of the results, each set of 1000 variables will be sampled 1000 times to later obtain an average."
   ]
  },
  {
   "cell_type": "code",
   "execution_count": 7,
   "id": "07aa0c1b",
   "metadata": {},
   "outputs": [],
   "source": [
    "kange_theta = scipy.stats.dirichlet.rvs(adj_dist[:, kange_idx], size=1000)\n",
    "tugev_theta = scipy.stats.dirichlet.rvs(adj_dist[:, tugev_idx], size=1000)"
   ]
  },
  {
   "cell_type": "markdown",
   "id": "f8b2539e",
   "metadata": {},
   "source": [
    "We will also need the vector of probabilities corresponding to the noun."
   ]
  },
  {
   "cell_type": "code",
   "execution_count": 8,
   "id": "b9c2de4f",
   "metadata": {},
   "outputs": [],
   "source": [
    "kohv_topics = noun_dist[kohv_idx]"
   ]
  },
  {
   "cell_type": "markdown",
   "id": "a05f59f3",
   "metadata": {},
   "source": [
    "To find the probability of the collocation, we need to multiply the vector of probabilities corresponding to the noun with the vector of sampled Dirichlet' variables. This will find the corresponding value for each topic and sum them together. If a topic has a high probability for the noun and the sampled variable for that topic is also higher (meaning the original pseudocount was high), the multiplication of the values will also be higher and thus increase the overall probability of the collocation. Similarly if the most probable topics for the noun and the highest pseudocounts of the adjective don't align, the probability of the collocation will be lower.\n",
    "\n",
    "Since we have 1000 vectors of Dirichlet' variables per adjective, the probability will be found as an average of those 1000 simulations."
   ]
  },
  {
   "cell_type": "code",
   "execution_count": 9,
   "id": "98901a4c",
   "metadata": {},
   "outputs": [],
   "source": [
    "kange_prob = np.mean(np.matmul(kohv_topics, kange_theta.T))\n",
    "tugev_prob = np.mean(np.matmul(kohv_topics, tugev_theta.T))"
   ]
  },
  {
   "cell_type": "code",
   "execution_count": 10,
   "id": "9bd9c112",
   "metadata": {},
   "outputs": [
    {
     "name": "stdout",
     "output_type": "stream",
     "text": [
      "('kange', 0.10683482609763297) ('tugev', 7.418066120767987e-05)\n"
     ]
    }
   ],
   "source": [
    "print((\"kange\", kange_prob), (\"tugev\", tugev_prob))"
   ]
  },
  {
   "cell_type": "markdown",
   "id": "b4159b51",
   "metadata": {},
   "source": [
    "The probabilities differ slightly from the previously obtained CollocationNet.predict probabilities due to the randomness of the sampled Dirichlet' variables."
   ]
  }
 ],
 "metadata": {
  "kernelspec": {
   "display_name": "Python 3",
   "language": "python",
   "name": "python3"
  },
  "language_info": {
   "codemirror_mode": {
    "name": "ipython",
    "version": 3
   },
   "file_extension": ".py",
   "mimetype": "text/x-python",
   "name": "python",
   "nbconvert_exporter": "python",
   "pygments_lexer": "ipython3",
   "version": "3.6.13"
  }
 },
 "nbformat": 4,
 "nbformat_minor": 5
}
