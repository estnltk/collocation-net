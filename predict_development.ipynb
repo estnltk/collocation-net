{
 "cells": [
  {
   "cell_type": "code",
   "execution_count": 1,
   "id": "b2449cce",
   "metadata": {},
   "outputs": [],
   "source": [
    "import pandas as pd\n",
    "import numpy as np\n",
    "import scipy.stats\n",
    "import pickle"
   ]
  },
  {
   "cell_type": "code",
   "execution_count": 2,
   "id": "c665a094",
   "metadata": {},
   "outputs": [],
   "source": [
    "data = pd.read_csv(\"data/df.csv\", index_col=0)\n",
    "noun_dist = np.load(f\"data/lda_noun_distribution.npy\")\n",
    "adj_dist = np.load(f\"data/lda_adj_distribution.npy\")\n",
    "\n",
    "with open(f\"data/lda_topics.pickle\", \"rb\") as f:\n",
    "    topics = pickle.load(f)"
   ]
  },
  {
   "cell_type": "code",
   "execution_count": 3,
   "id": "c2c549a2",
   "metadata": {},
   "outputs": [
    {
     "data": {
      "text/plain": [
       "((5817, 7358), (1000, 7358), (5817, 1000))"
      ]
     },
     "execution_count": 3,
     "metadata": {},
     "output_type": "execute_result"
    }
   ],
   "source": [
    "data.shape, adj_dist.shape, noun_dist.shape"
   ]
  },
  {
   "cell_type": "markdown",
   "id": "08b64d5d",
   "metadata": {},
   "source": [
    "#### Katsetus leida tõenäosused, et kohv on kange või tugev"
   ]
  },
  {
   "cell_type": "code",
   "execution_count": 4,
   "id": "e321626a",
   "metadata": {},
   "outputs": [
    {
     "data": {
      "text/html": [
       "<div>\n",
       "<style scoped>\n",
       "    .dataframe tbody tr th:only-of-type {\n",
       "        vertical-align: middle;\n",
       "    }\n",
       "\n",
       "    .dataframe tbody tr th {\n",
       "        vertical-align: top;\n",
       "    }\n",
       "\n",
       "    .dataframe thead th {\n",
       "        text-align: right;\n",
       "    }\n",
       "</style>\n",
       "<table border=\"1\" class=\"dataframe\">\n",
       "  <thead>\n",
       "    <tr style=\"text-align: right;\">\n",
       "      <th></th>\n",
       "      <th>eelmine</th>\n",
       "      <th>järgmine</th>\n",
       "      <th>viimane</th>\n",
       "      <th>käesolev</th>\n",
       "      <th>kogu</th>\n",
       "      <th>kohalik</th>\n",
       "      <th>suur</th>\n",
       "      <th>pikk</th>\n",
       "      <th>juriidiline</th>\n",
       "      <th>tulev</th>\n",
       "      <th>...</th>\n",
       "      <th>realiseeritav</th>\n",
       "      <th>valgustatav</th>\n",
       "      <th>vajuv</th>\n",
       "      <th>väikesekasvuline</th>\n",
       "      <th>väikeseformaadiline</th>\n",
       "      <th>õlirikas</th>\n",
       "      <th>õigusetu</th>\n",
       "      <th>oletuslik</th>\n",
       "      <th>raugematu</th>\n",
       "      <th>raudteeäärne</th>\n",
       "    </tr>\n",
       "  </thead>\n",
       "  <tbody>\n",
       "    <tr>\n",
       "      <th>aasta</th>\n",
       "      <td>53250</td>\n",
       "      <td>38107</td>\n",
       "      <td>24410</td>\n",
       "      <td>11753</td>\n",
       "      <td>1115</td>\n",
       "      <td>40</td>\n",
       "      <td>114</td>\n",
       "      <td>1562</td>\n",
       "      <td>0</td>\n",
       "      <td>12634</td>\n",
       "      <td>...</td>\n",
       "      <td>0</td>\n",
       "      <td>0</td>\n",
       "      <td>0</td>\n",
       "      <td>0</td>\n",
       "      <td>0</td>\n",
       "      <td>0</td>\n",
       "      <td>0</td>\n",
       "      <td>0</td>\n",
       "      <td>0</td>\n",
       "      <td>0</td>\n",
       "    </tr>\n",
       "    <tr>\n",
       "      <th>aeg</th>\n",
       "      <td>75</td>\n",
       "      <td>65</td>\n",
       "      <td>27915</td>\n",
       "      <td>1227</td>\n",
       "      <td>24997</td>\n",
       "      <td>1373</td>\n",
       "      <td>194</td>\n",
       "      <td>14913</td>\n",
       "      <td>0</td>\n",
       "      <td>18</td>\n",
       "      <td>...</td>\n",
       "      <td>0</td>\n",
       "      <td>0</td>\n",
       "      <td>0</td>\n",
       "      <td>0</td>\n",
       "      <td>0</td>\n",
       "      <td>0</td>\n",
       "      <td>0</td>\n",
       "      <td>0</td>\n",
       "      <td>0</td>\n",
       "      <td>0</td>\n",
       "    </tr>\n",
       "    <tr>\n",
       "      <th>määrus</th>\n",
       "      <td>16</td>\n",
       "      <td>110</td>\n",
       "      <td>17</td>\n",
       "      <td>27514</td>\n",
       "      <td>30</td>\n",
       "      <td>0</td>\n",
       "      <td>0</td>\n",
       "      <td>0</td>\n",
       "      <td>0</td>\n",
       "      <td>0</td>\n",
       "      <td>...</td>\n",
       "      <td>0</td>\n",
       "      <td>0</td>\n",
       "      <td>0</td>\n",
       "      <td>0</td>\n",
       "      <td>0</td>\n",
       "      <td>0</td>\n",
       "      <td>0</td>\n",
       "      <td>0</td>\n",
       "      <td>0</td>\n",
       "      <td>0</td>\n",
       "    </tr>\n",
       "    <tr>\n",
       "      <th>omavalitsus</th>\n",
       "      <td>30</td>\n",
       "      <td>67</td>\n",
       "      <td>44</td>\n",
       "      <td>0</td>\n",
       "      <td>31</td>\n",
       "      <td>24261</td>\n",
       "      <td>84</td>\n",
       "      <td>0</td>\n",
       "      <td>12</td>\n",
       "      <td>0</td>\n",
       "      <td>...</td>\n",
       "      <td>0</td>\n",
       "      <td>0</td>\n",
       "      <td>0</td>\n",
       "      <td>0</td>\n",
       "      <td>0</td>\n",
       "      <td>0</td>\n",
       "      <td>0</td>\n",
       "      <td>0</td>\n",
       "      <td>0</td>\n",
       "      <td>0</td>\n",
       "    </tr>\n",
       "    <tr>\n",
       "      <th>osa</th>\n",
       "      <td>201</td>\n",
       "      <td>436</td>\n",
       "      <td>918</td>\n",
       "      <td>118</td>\n",
       "      <td>51</td>\n",
       "      <td>10</td>\n",
       "      <td>22165</td>\n",
       "      <td>25</td>\n",
       "      <td>0</td>\n",
       "      <td>17</td>\n",
       "      <td>...</td>\n",
       "      <td>0</td>\n",
       "      <td>0</td>\n",
       "      <td>0</td>\n",
       "      <td>0</td>\n",
       "      <td>0</td>\n",
       "      <td>0</td>\n",
       "      <td>0</td>\n",
       "      <td>0</td>\n",
       "      <td>0</td>\n",
       "      <td>0</td>\n",
       "    </tr>\n",
       "  </tbody>\n",
       "</table>\n",
       "<p>5 rows × 7358 columns</p>\n",
       "</div>"
      ],
      "text/plain": [
       "             eelmine  järgmine  viimane  käesolev   kogu  kohalik   suur  \\\n",
       "aasta          53250     38107    24410     11753   1115       40    114   \n",
       "aeg               75        65    27915      1227  24997     1373    194   \n",
       "määrus            16       110       17     27514     30        0      0   \n",
       "omavalitsus       30        67       44         0     31    24261     84   \n",
       "osa              201       436      918       118     51       10  22165   \n",
       "\n",
       "              pikk  juriidiline  tulev  ...  realiseeritav  valgustatav  \\\n",
       "aasta         1562            0  12634  ...              0            0   \n",
       "aeg          14913            0     18  ...              0            0   \n",
       "määrus           0            0      0  ...              0            0   \n",
       "omavalitsus      0           12      0  ...              0            0   \n",
       "osa             25            0     17  ...              0            0   \n",
       "\n",
       "             vajuv  väikesekasvuline  väikeseformaadiline  õlirikas  õigusetu  \\\n",
       "aasta            0                 0                    0         0         0   \n",
       "aeg              0                 0                    0         0         0   \n",
       "määrus           0                 0                    0         0         0   \n",
       "omavalitsus      0                 0                    0         0         0   \n",
       "osa              0                 0                    0         0         0   \n",
       "\n",
       "             oletuslik  raugematu  raudteeäärne  \n",
       "aasta                0          0             0  \n",
       "aeg                  0          0             0  \n",
       "määrus               0          0             0  \n",
       "omavalitsus          0          0             0  \n",
       "osa                  0          0             0  \n",
       "\n",
       "[5 rows x 7358 columns]"
      ]
     },
     "execution_count": 4,
     "metadata": {},
     "output_type": "execute_result"
    }
   ],
   "source": [
    "data.head()"
   ]
  },
  {
   "cell_type": "code",
   "execution_count": 4,
   "id": "0456fdc6",
   "metadata": {},
   "outputs": [
    {
     "data": {
      "text/plain": [
       "1505"
      ]
     },
     "execution_count": 4,
     "metadata": {},
     "output_type": "execute_result"
    }
   ],
   "source": [
    "list(data.index).index('kohv')"
   ]
  },
  {
   "cell_type": "code",
   "execution_count": 5,
   "id": "20285e09",
   "metadata": {},
   "outputs": [],
   "source": [
    "kohv_topicud = noun_dist[1505]"
   ]
  },
  {
   "cell_type": "code",
   "execution_count": 6,
   "id": "fc3b3753",
   "metadata": {},
   "outputs": [
    {
     "data": {
      "text/plain": [
       "(127, 73)"
      ]
     },
     "execution_count": 6,
     "metadata": {},
     "output_type": "execute_result"
    }
   ],
   "source": [
    "list(data.columns).index('kange'), list(data.columns).index('tugev')"
   ]
  },
  {
   "cell_type": "markdown",
   "id": "75bc867f",
   "metadata": {},
   "source": [
    "#### Top 50 klastrit"
   ]
  },
  {
   "cell_type": "markdown",
   "id": "fe86c0e4",
   "metadata": {},
   "source": [
    "Leian sõnale 'kohv' vastavad 50 kõige tõenäolisemat klastrit"
   ]
  },
  {
   "cell_type": "code",
   "execution_count": 7,
   "id": "9d1e2c8e",
   "metadata": {},
   "outputs": [],
   "source": [
    "ind = np.argpartition(kohv_topicud, -50)[-50:]"
   ]
  },
  {
   "cell_type": "code",
   "execution_count": 8,
   "id": "b3b3a195",
   "metadata": {},
   "outputs": [],
   "source": [
    "ind = ind[np.argsort(kohv_topicud[ind])][::-1]"
   ]
  },
  {
   "cell_type": "markdown",
   "id": "45d8f98a",
   "metadata": {},
   "source": [
    "Loon numpy array, kuhu salvestan genereeritud $\\theta$ väärtusi"
   ]
  },
  {
   "cell_type": "code",
   "execution_count": 9,
   "id": "8b8b85ee",
   "metadata": {},
   "outputs": [],
   "source": [
    "kohv_topics_theta = np.zeros((1000, 50, adj_dist.shape[1]))"
   ]
  },
  {
   "cell_type": "code",
   "execution_count": 10,
   "id": "2f2430f4",
   "metadata": {},
   "outputs": [
    {
     "data": {
      "text/plain": [
       "(1000, 50, 7358)"
      ]
     },
     "execution_count": 10,
     "metadata": {},
     "output_type": "execute_result"
    }
   ],
   "source": [
    "kohv_topics_theta.shape"
   ]
  },
  {
   "cell_type": "code",
   "execution_count": 11,
   "id": "75598ad3",
   "metadata": {},
   "outputs": [
    {
     "data": {
      "text/plain": [
       "(7358,)"
      ]
     },
     "execution_count": 11,
     "metadata": {},
     "output_type": "execute_result"
    }
   ],
   "source": [
    "adj_dist[0, :].shape"
   ]
  },
  {
   "cell_type": "code",
   "execution_count": 12,
   "id": "9fcbfecb",
   "metadata": {},
   "outputs": [
    {
     "data": {
      "text/plain": [
       "(1000, 7358)"
      ]
     },
     "execution_count": 12,
     "metadata": {},
     "output_type": "execute_result"
    }
   ],
   "source": [
    "kohv_topics_theta[:, 0].shape"
   ]
  },
  {
   "cell_type": "markdown",
   "id": "00efe9fa",
   "metadata": {},
   "source": [
    "Iga klastri kohta genereerin $\\theta$ vektori vastavast $\\alpha$ vektorist, kus $\\alpha$ on ühele klastrile vastav vektor, mis sisaldab omadussõnadele vastavaid pseudocounte."
   ]
  },
  {
   "cell_type": "code",
   "execution_count": 13,
   "id": "56cf8c7c",
   "metadata": {},
   "outputs": [],
   "source": [
    "for i in range(kohv_topics_theta.shape[1]):\n",
    "    kohv_topics_theta[:, i] = scipy.stats.dirichlet.rvs(adj_dist[ind[i], :], size=1000)"
   ]
  },
  {
   "cell_type": "markdown",
   "id": "8fd7309a",
   "metadata": {},
   "source": [
    "Leian sõnale 'kohv' vastava $\\beta$ vektori, mis on vektor, mis sisaldab iga klastri kohta tõenäosust, et sõna kuulub sellesse klastrisse. Kuna eelnevalt on kasutatud vaid top 50 klastrit, võtan ka siin vaid neile top 50 klastrile vastavad tõenäosused."
   ]
  },
  {
   "cell_type": "code",
   "execution_count": 14,
   "id": "d630d03c",
   "metadata": {},
   "outputs": [],
   "source": [
    "kohv_topicud_top = noun_dist[1505][ind]"
   ]
  },
  {
   "cell_type": "markdown",
   "id": "86299109",
   "metadata": {},
   "source": [
    "Korrutan sõnale 'kohv' vastava tõenäosusvektori eelnevalt leitud $\\theta$ vektoritega. $\\theta$ vektorid on salvestatud andmestruktuuri kujul (N, num_topics, num_adjs), kus N on simulatsioonide arv (hetkel 1000), num_topics on vastav klastrite arv (siin võetud top 50 klastrit) ja num_adjs on ühele $\\alpha$ vektorile vastava vektori pikkus ehk omadussõnade arv (siin 7358).\n",
    "\n",
    "Korrutatud on igale klastrile vastav $\\theta$ vektor $\\beta$ vektoriga, seega tulemus on kujul (N, num_adjs) = (1000, 7358), mis tähendab, et iga simulatsiooni kohta on eraldi korrutis."
   ]
  },
  {
   "cell_type": "code",
   "execution_count": 15,
   "id": "0c5c3d9d",
   "metadata": {},
   "outputs": [
    {
     "data": {
      "text/plain": [
       "(1000, 7358)"
      ]
     },
     "execution_count": 15,
     "metadata": {},
     "output_type": "execute_result"
    }
   ],
   "source": [
    "np.matmul(kohv_topicud_top, kohv_topics_theta).shape"
   ]
  },
  {
   "cell_type": "markdown",
   "id": "6ba2f9de",
   "metadata": {},
   "source": [
    "Leian keskmise kõikide N simulatsiooni peale."
   ]
  },
  {
   "cell_type": "code",
   "execution_count": 16,
   "id": "2e3d7060",
   "metadata": {},
   "outputs": [
    {
     "data": {
      "text/plain": [
       "(7358,)"
      ]
     },
     "execution_count": 16,
     "metadata": {},
     "output_type": "execute_result"
    }
   ],
   "source": [
    "np.mean(np.matmul(kohv_topicud_top, kohv_topics_theta), axis=0).shape"
   ]
  },
  {
   "cell_type": "code",
   "execution_count": 17,
   "id": "72e752bb",
   "metadata": {},
   "outputs": [],
   "source": [
    "avg_per_adj = np.mean(np.matmul(kohv_topicud_top, kohv_topics_theta), axis=0)"
   ]
  },
  {
   "cell_type": "markdown",
   "id": "ed573c4e",
   "metadata": {},
   "source": [
    "Katsetused, et näha, mis erinevatele omadussõnadele vastavad väärtused on ning mis on üleüldiselt top omadussõnad sõna 'kohv' jaoks."
   ]
  },
  {
   "cell_type": "code",
   "execution_count": 18,
   "id": "248da741",
   "metadata": {},
   "outputs": [
    {
     "name": "stdout",
     "output_type": "stream",
     "text": [
      "kange 0.0886423167761788\n",
      "tugev 0.00047375078501561094\n"
     ]
    }
   ],
   "source": [
    "print(data.columns[127], avg_per_adj[127])\n",
    "print(data.columns[73], avg_per_adj[73])"
   ]
  },
  {
   "cell_type": "code",
   "execution_count": 19,
   "id": "a73bde89",
   "metadata": {},
   "outputs": [
    {
     "data": {
      "text/plain": [
       "(0.14438539629134167, 11, 'hea')"
      ]
     },
     "execution_count": 19,
     "metadata": {},
     "output_type": "execute_result"
    }
   ],
   "source": [
    "np.amax(avg_per_adj), np.argmax(avg_per_adj), data.columns[11]"
   ]
  },
  {
   "cell_type": "code",
   "execution_count": 20,
   "id": "f5fb2589",
   "metadata": {},
   "outputs": [],
   "source": [
    "top_adj_ind = np.argpartition(avg_per_adj, -10)[-10:]\n",
    "top_adj_ind = top_adj_ind[np.argsort(avg_per_adj[top_adj_ind])][::-1]"
   ]
  },
  {
   "cell_type": "code",
   "execution_count": 21,
   "id": "dc2ff3f9",
   "metadata": {},
   "outputs": [
    {
     "data": {
      "text/plain": [
       "Index(['hea', 'must', 'terviklik', 'kuum', 'kange', 'lahustuv', 'valmis',\n",
       "       'tavaline', 'väike', 'suur'],\n",
       "      dtype='object')"
      ]
     },
     "execution_count": 21,
     "metadata": {},
     "output_type": "execute_result"
    }
   ],
   "source": [
    "data.columns[top_adj_ind]"
   ]
  }
 ],
 "metadata": {
  "kernelspec": {
   "display_name": "Python 3 (ipykernel)",
   "language": "python",
   "name": "python3"
  },
  "language_info": {
   "codemirror_mode": {
    "name": "ipython",
    "version": 3
   },
   "file_extension": ".py",
   "mimetype": "text/x-python",
   "name": "python",
   "nbconvert_exporter": "python",
   "pygments_lexer": "ipython3",
   "version": "3.8.12"
  }
 },
 "nbformat": 4,
 "nbformat_minor": 5
}
