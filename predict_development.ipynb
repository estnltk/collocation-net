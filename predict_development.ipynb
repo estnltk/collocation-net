{
 "cells": [
  {
   "cell_type": "code",
   "execution_count": 1,
   "id": "880e8ed2",
   "metadata": {},
   "outputs": [],
   "source": [
    "import pandas as pd\n",
    "import numpy as np\n",
    "import scipy.stats\n",
    "import pickle"
   ]
  },
  {
   "cell_type": "code",
   "execution_count": 2,
   "id": "a9b41c98",
   "metadata": {},
   "outputs": [],
   "source": [
    "data = pd.read_csv(\"data/df.csv\", index_col=0)\n",
    "noun_dist = np.load(f\"data/lda_noun_distribution.npy\")\n",
    "adj_dist = np.load(f\"data/lda_adj_distribution.npy\")\n",
    "\n",
    "with open(f\"data/lda_topics.pickle\", \"rb\") as f:\n",
    "    topics = pickle.load(f)"
   ]
  },
  {
   "cell_type": "code",
   "execution_count": 3,
   "id": "82de7be2",
   "metadata": {},
   "outputs": [
    {
     "data": {
      "text/plain": [
       "((5817, 7358), (1000, 7358), (5817, 1000))"
      ]
     },
     "execution_count": 3,
     "metadata": {},
     "output_type": "execute_result"
    }
   ],
   "source": [
    "data.shape, adj_dist.shape, noun_dist.shape"
   ]
  },
  {
   "cell_type": "markdown",
   "id": "c8360bf4",
   "metadata": {},
   "source": [
    "#### Katsetus leida tõenäosused, et kohv on kange või tugev"
   ]
  },
  {
   "cell_type": "code",
   "execution_count": 4,
   "id": "de8741df",
   "metadata": {},
   "outputs": [
    {
     "data": {
      "text/plain": [
       "1505"
      ]
     },
     "execution_count": 4,
     "metadata": {},
     "output_type": "execute_result"
    }
   ],
   "source": [
    "list(data.index).index('kohv')"
   ]
  },
  {
   "cell_type": "code",
   "execution_count": 5,
   "id": "651a3583",
   "metadata": {},
   "outputs": [],
   "source": [
    "kohv_topicud = noun_dist[1505]"
   ]
  },
  {
   "cell_type": "code",
   "execution_count": 6,
   "id": "99794988",
   "metadata": {},
   "outputs": [
    {
     "data": {
      "text/plain": [
       "(127, 73)"
      ]
     },
     "execution_count": 6,
     "metadata": {},
     "output_type": "execute_result"
    }
   ],
   "source": [
    "list(data.columns).index('kange'), list(data.columns).index('tugev')"
   ]
  },
  {
   "cell_type": "markdown",
   "id": "fd00baaf",
   "metadata": {},
   "source": [
    "#### Top 50 klastrit"
   ]
  },
  {
   "cell_type": "markdown",
   "id": "b42c916f",
   "metadata": {},
   "source": [
    "Leian sõnale 'kohv' vastavad 50 kõige tõenäolisemat klastrit"
   ]
  },
  {
   "cell_type": "code",
   "execution_count": 7,
   "id": "e849d8db",
   "metadata": {},
   "outputs": [],
   "source": [
    "ind = np.argpartition(kohv_topicud, -50)[-50:]"
   ]
  },
  {
   "cell_type": "code",
   "execution_count": 8,
   "id": "27061f49",
   "metadata": {},
   "outputs": [],
   "source": [
    "ind = ind[np.argsort(kohv_topicud[ind])][::-1]"
   ]
  },
  {
   "cell_type": "markdown",
   "id": "675f3b8a",
   "metadata": {},
   "source": [
    "Loon numpy array, kuhu salvestan genereeritud $\\theta$ väärtusi"
   ]
  },
  {
   "cell_type": "code",
   "execution_count": 9,
   "id": "4988bd05",
   "metadata": {},
   "outputs": [],
   "source": [
    "kohv_topics_theta = np.zeros((1000, 50, adj_dist.shape[1]))"
   ]
  },
  {
   "cell_type": "code",
   "execution_count": 10,
   "id": "f349a09f",
   "metadata": {},
   "outputs": [
    {
     "data": {
      "text/plain": [
       "(1000, 50, 7358)"
      ]
     },
     "execution_count": 10,
     "metadata": {},
     "output_type": "execute_result"
    }
   ],
   "source": [
    "kohv_topics_theta.shape"
   ]
  },
  {
   "cell_type": "code",
   "execution_count": 11,
   "id": "31c40535",
   "metadata": {},
   "outputs": [
    {
     "data": {
      "text/plain": [
       "(7358,)"
      ]
     },
     "execution_count": 11,
     "metadata": {},
     "output_type": "execute_result"
    }
   ],
   "source": [
    "adj_dist[0, :].shape"
   ]
  },
  {
   "cell_type": "code",
   "execution_count": 12,
   "id": "3987f0ff",
   "metadata": {},
   "outputs": [
    {
     "data": {
      "text/plain": [
       "(1000, 7358)"
      ]
     },
     "execution_count": 12,
     "metadata": {},
     "output_type": "execute_result"
    }
   ],
   "source": [
    "kohv_topics_theta[:, 0].shape"
   ]
  },
  {
   "cell_type": "markdown",
   "id": "4765f51a",
   "metadata": {},
   "source": [
    "Iga klastri kohta genereerin $\\theta$ vektori vastavast $\\alpha$ vektorist, kus $\\alpha$ on ühele klastrile vastav vektor, mis sisaldab omadussõnadele vastavaid pseudocounte."
   ]
  },
  {
   "cell_type": "code",
   "execution_count": 13,
   "id": "bf968d77",
   "metadata": {},
   "outputs": [],
   "source": [
    "for i in range(kohv_topics_theta.shape[1]):\n",
    "    kohv_topics_theta[:, i] = scipy.stats.dirichlet.rvs(adj_dist[ind[i], :], size=1000)"
   ]
  },
  {
   "cell_type": "markdown",
   "id": "06d86a0c",
   "metadata": {},
   "source": [
    "Leian sõnale 'kohv' vastava $\\beta$ vektori, mis on vektor, mis sisaldab iga klastri kohta tõenäosust, et sõna kuulub sellesse klastrisse. Kuna eelnevalt on kasutatud vaid top 50 klastrit, võtan ka siin vaid neile top 50 klastrile vastavad tõenäosused."
   ]
  },
  {
   "cell_type": "code",
   "execution_count": 14,
   "id": "7816e33b",
   "metadata": {},
   "outputs": [],
   "source": [
    "kohv_topicud_top = noun_dist[1505][ind]"
   ]
  },
  {
   "cell_type": "markdown",
   "id": "9a7b164c",
   "metadata": {},
   "source": [
    "Korrutan sõnale 'kohv' vastava tõenäosusvektori eelnevalt leitud $\\theta$ vektoritega. $\\theta$ vektorid on salvestatud andmestruktuuri kujul (N, num_topics, num_adjs), kus N on simulatsioonide arv (hetkel 1000), num_topics on vastav klastrite arv (siin võetud top 50 klastrit) ja num_adjs on ühele $\\alpha$ vektorile vastava vektori pikkus ehk omadussõnade arv (siin 7358).\n",
    "\n",
    "Korrutatud on igale klastrile vastav $\\theta$ vektor $\\beta$ vektoriga, seega tulemus on kujul (N, num_adjs) = (1000, 7358), mis tähendab, et iga simulatsiooni kohta on eraldi korrutis."
   ]
  },
  {
   "cell_type": "code",
   "execution_count": 15,
   "id": "51e05a69",
   "metadata": {},
   "outputs": [
    {
     "data": {
      "text/plain": [
       "(1000, 7358)"
      ]
     },
     "execution_count": 15,
     "metadata": {},
     "output_type": "execute_result"
    }
   ],
   "source": [
    "np.matmul(kohv_topicud_top, kohv_topics_theta).shape"
   ]
  },
  {
   "cell_type": "markdown",
   "id": "9794eff2",
   "metadata": {},
   "source": [
    "Leian keskmise kõikide N simulatsiooni peale."
   ]
  },
  {
   "cell_type": "code",
   "execution_count": 16,
   "id": "589c8dbb",
   "metadata": {},
   "outputs": [
    {
     "data": {
      "text/plain": [
       "(7358,)"
      ]
     },
     "execution_count": 16,
     "metadata": {},
     "output_type": "execute_result"
    }
   ],
   "source": [
    "np.mean(np.matmul(kohv_topicud_top, kohv_topics_theta), axis=0).shape"
   ]
  },
  {
   "cell_type": "code",
   "execution_count": 17,
   "id": "53401a23",
   "metadata": {},
   "outputs": [],
   "source": [
    "avg_per_adj = np.mean(np.matmul(kohv_topicud_top, kohv_topics_theta), axis=0)"
   ]
  },
  {
   "cell_type": "markdown",
   "id": "a23ee75d",
   "metadata": {},
   "source": [
    "Katsetused, et näha, mis erinevatele omadussõnadele vastavad väärtused on ning mis on üleüldiselt top omadussõnad sõna 'kohv' jaoks."
   ]
  },
  {
   "cell_type": "code",
   "execution_count": 18,
   "id": "8cd05cf9",
   "metadata": {},
   "outputs": [
    {
     "name": "stdout",
     "output_type": "stream",
     "text": [
      "kange 0.0886423167761788\n",
      "tugev 0.00047375078501561094\n"
     ]
    }
   ],
   "source": [
    "print(data.columns[127], avg_per_adj[127])\n",
    "print(data.columns[73], avg_per_adj[73])"
   ]
  },
  {
   "cell_type": "code",
   "execution_count": 19,
   "id": "5d7e5a0b",
   "metadata": {},
   "outputs": [
    {
     "data": {
      "text/plain": [
       "(0.14438539629134167, 11, 'hea')"
      ]
     },
     "execution_count": 19,
     "metadata": {},
     "output_type": "execute_result"
    }
   ],
   "source": [
    "np.amax(avg_per_adj), np.argmax(avg_per_adj), data.columns[11]"
   ]
  },
  {
   "cell_type": "code",
   "execution_count": 20,
   "id": "1891573a",
   "metadata": {},
   "outputs": [],
   "source": [
    "top_adj_ind = np.argpartition(avg_per_adj, -10)[-10:]\n",
    "top_adj_ind = top_adj_ind[np.argsort(avg_per_adj[top_adj_ind])][::-1]"
   ]
  },
  {
   "cell_type": "code",
   "execution_count": 21,
   "id": "2317788a",
   "metadata": {},
   "outputs": [
    {
     "data": {
      "text/plain": [
       "Index(['hea', 'must', 'terviklik', 'kuum', 'kange', 'lahustuv', 'valmis',\n",
       "       'tavaline', 'väike', 'suur'],\n",
       "      dtype='object')"
      ]
     },
     "execution_count": 21,
     "metadata": {},
     "output_type": "execute_result"
    }
   ],
   "source": [
    "data.columns[top_adj_ind]"
   ]
  }
 ],
 "metadata": {
  "kernelspec": {
   "display_name": "Python 3",
   "language": "python",
   "name": "python3"
  },
  "language_info": {
   "codemirror_mode": {
    "name": "ipython",
    "version": 3
   },
   "file_extension": ".py",
   "mimetype": "text/x-python",
   "name": "python",
   "nbconvert_exporter": "python",
   "pygments_lexer": "ipython3",
   "version": "3.6.13"
  }
 },
 "nbformat": 4,
 "nbformat_minor": 5
}
