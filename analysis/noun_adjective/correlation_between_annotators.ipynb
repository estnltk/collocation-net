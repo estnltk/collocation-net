{
 "cells": [
  {
   "cell_type": "code",
   "execution_count": 1,
   "id": "210a572d",
   "metadata": {},
   "outputs": [],
   "source": [
    "import pandas as pd\n",
    "import numpy as np"
   ]
  },
  {
   "cell_type": "markdown",
   "id": "c89d7f2b",
   "metadata": {},
   "source": [
    "### Correlation of annotations without background info"
   ]
  },
  {
   "cell_type": "code",
   "execution_count": 2,
   "id": "14e77d06",
   "metadata": {},
   "outputs": [],
   "source": [
    "df_other = pd.read_csv(\"annotator2/noun_adjective_0.csv\", index_col=0, encoding=\"utf8\")\n",
    "\n",
    "for i in range(1, 5):\n",
    "    df = pd.read_csv(f\"annotator2/noun_adjective_{i}.csv\", index_col=0, encoding=\"utf8\")\n",
    "    df_other = pd.concat([df_other, df], ignore_index = True)"
   ]
  },
  {
   "cell_type": "code",
   "execution_count": 3,
   "id": "77f9731b",
   "metadata": {},
   "outputs": [],
   "source": [
    "df_mine = pd.read_csv(\"annotator1/noun_adjective_100_0.csv\", index_col=0)\n",
    "\n",
    "for i in range(1, 5):\n",
    "    df = pd.read_csv(f\"annotator1/noun_adjective_100_{i}.csv\", index_col=0)\n",
    "    df_mine = pd.concat([df_mine, df], ignore_index = True)"
   ]
  },
  {
   "cell_type": "code",
   "execution_count": 4,
   "id": "8e718d24",
   "metadata": {},
   "outputs": [
    {
     "data": {
      "text/html": [
       "<div>\n",
       "<style scoped>\n",
       "    .dataframe tbody tr th:only-of-type {\n",
       "        vertical-align: middle;\n",
       "    }\n",
       "\n",
       "    .dataframe tbody tr th {\n",
       "        vertical-align: top;\n",
       "    }\n",
       "\n",
       "    .dataframe thead th {\n",
       "        text-align: right;\n",
       "    }\n",
       "</style>\n",
       "<table border=\"1\" class=\"dataframe\">\n",
       "  <thead>\n",
       "    <tr style=\"text-align: right;\">\n",
       "      <th></th>\n",
       "      <th>adjective</th>\n",
       "      <th>noun</th>\n",
       "      <th>Unnamed: 3</th>\n",
       "    </tr>\n",
       "  </thead>\n",
       "  <tbody>\n",
       "    <tr>\n",
       "      <th>0</th>\n",
       "      <td>kahetsusväärne</td>\n",
       "      <td>komme</td>\n",
       "      <td>yes</td>\n",
       "    </tr>\n",
       "    <tr>\n",
       "      <th>1</th>\n",
       "      <td>õnnetu</td>\n",
       "      <td>komme</td>\n",
       "      <td>yes</td>\n",
       "    </tr>\n",
       "    <tr>\n",
       "      <th>2</th>\n",
       "      <td>vastutustundetu</td>\n",
       "      <td>isik</td>\n",
       "      <td>yes</td>\n",
       "    </tr>\n",
       "    <tr>\n",
       "      <th>3</th>\n",
       "      <td>kergemeelne</td>\n",
       "      <td>isik</td>\n",
       "      <td>yes</td>\n",
       "    </tr>\n",
       "    <tr>\n",
       "      <th>4</th>\n",
       "      <td>lootusetu</td>\n",
       "      <td>narkomaan</td>\n",
       "      <td>yes</td>\n",
       "    </tr>\n",
       "  </tbody>\n",
       "</table>\n",
       "</div>"
      ],
      "text/plain": [
       "         adjective       noun Unnamed: 3\n",
       "0   kahetsusväärne      komme        yes\n",
       "1           õnnetu      komme        yes\n",
       "2  vastutustundetu       isik        yes\n",
       "3      kergemeelne       isik        yes\n",
       "4        lootusetu  narkomaan        yes"
      ]
     },
     "execution_count": 4,
     "metadata": {},
     "output_type": "execute_result"
    }
   ],
   "source": [
    "df_other.head()"
   ]
  },
  {
   "cell_type": "code",
   "execution_count": 5,
   "id": "32b8ed11",
   "metadata": {},
   "outputs": [
    {
     "data": {
      "text/html": [
       "<div>\n",
       "<style scoped>\n",
       "    .dataframe tbody tr th:only-of-type {\n",
       "        vertical-align: middle;\n",
       "    }\n",
       "\n",
       "    .dataframe tbody tr th {\n",
       "        vertical-align: top;\n",
       "    }\n",
       "\n",
       "    .dataframe thead th {\n",
       "        text-align: right;\n",
       "    }\n",
       "</style>\n",
       "<table border=\"1\" class=\"dataframe\">\n",
       "  <thead>\n",
       "    <tr style=\"text-align: right;\">\n",
       "      <th></th>\n",
       "      <th>adjective</th>\n",
       "      <th>noun</th>\n",
       "      <th>hinnang</th>\n",
       "    </tr>\n",
       "  </thead>\n",
       "  <tbody>\n",
       "    <tr>\n",
       "      <th>0</th>\n",
       "      <td>kahetsusväärne</td>\n",
       "      <td>komme</td>\n",
       "      <td>yes</td>\n",
       "    </tr>\n",
       "    <tr>\n",
       "      <th>1</th>\n",
       "      <td>õnnetu</td>\n",
       "      <td>komme</td>\n",
       "      <td>yes</td>\n",
       "    </tr>\n",
       "    <tr>\n",
       "      <th>2</th>\n",
       "      <td>vastutustundetu</td>\n",
       "      <td>isik</td>\n",
       "      <td>yes</td>\n",
       "    </tr>\n",
       "    <tr>\n",
       "      <th>3</th>\n",
       "      <td>kergemeelne</td>\n",
       "      <td>isik</td>\n",
       "      <td>yes</td>\n",
       "    </tr>\n",
       "    <tr>\n",
       "      <th>4</th>\n",
       "      <td>lootusetu</td>\n",
       "      <td>narkomaan</td>\n",
       "      <td>yes</td>\n",
       "    </tr>\n",
       "  </tbody>\n",
       "</table>\n",
       "</div>"
      ],
      "text/plain": [
       "         adjective       noun hinnang\n",
       "0   kahetsusväärne      komme     yes\n",
       "1           õnnetu      komme     yes\n",
       "2  vastutustundetu       isik     yes\n",
       "3      kergemeelne       isik     yes\n",
       "4        lootusetu  narkomaan     yes"
      ]
     },
     "execution_count": 5,
     "metadata": {},
     "output_type": "execute_result"
    }
   ],
   "source": [
    "df_mine.head()"
   ]
  },
  {
   "cell_type": "code",
   "execution_count": 6,
   "id": "a5f3bab9",
   "metadata": {},
   "outputs": [],
   "source": [
    "df_other.columns = [\"adjective\", \"noun\", \"hinnang\"]"
   ]
  },
  {
   "cell_type": "code",
   "execution_count": 7,
   "id": "b35f983b",
   "metadata": {},
   "outputs": [],
   "source": [
    "df_other[\"hinnang\"] = df_other[\"hinnang\"].str.lower()"
   ]
  },
  {
   "cell_type": "code",
   "execution_count": 8,
   "id": "5b770156",
   "metadata": {},
   "outputs": [
    {
     "data": {
      "text/html": [
       "<div>\n",
       "<style scoped>\n",
       "    .dataframe tbody tr th:only-of-type {\n",
       "        vertical-align: middle;\n",
       "    }\n",
       "\n",
       "    .dataframe tbody tr th {\n",
       "        vertical-align: top;\n",
       "    }\n",
       "\n",
       "    .dataframe thead th {\n",
       "        text-align: right;\n",
       "    }\n",
       "</style>\n",
       "<table border=\"1\" class=\"dataframe\">\n",
       "  <thead>\n",
       "    <tr style=\"text-align: right;\">\n",
       "      <th></th>\n",
       "      <th>adjective</th>\n",
       "      <th>noun</th>\n",
       "      <th>hinnang</th>\n",
       "    </tr>\n",
       "  </thead>\n",
       "  <tbody>\n",
       "    <tr>\n",
       "      <th>0</th>\n",
       "      <td>kahetsusväärne</td>\n",
       "      <td>komme</td>\n",
       "      <td>yes</td>\n",
       "    </tr>\n",
       "    <tr>\n",
       "      <th>1</th>\n",
       "      <td>õnnetu</td>\n",
       "      <td>komme</td>\n",
       "      <td>yes</td>\n",
       "    </tr>\n",
       "    <tr>\n",
       "      <th>2</th>\n",
       "      <td>vastutustundetu</td>\n",
       "      <td>isik</td>\n",
       "      <td>yes</td>\n",
       "    </tr>\n",
       "    <tr>\n",
       "      <th>3</th>\n",
       "      <td>kergemeelne</td>\n",
       "      <td>isik</td>\n",
       "      <td>yes</td>\n",
       "    </tr>\n",
       "    <tr>\n",
       "      <th>4</th>\n",
       "      <td>lootusetu</td>\n",
       "      <td>narkomaan</td>\n",
       "      <td>yes</td>\n",
       "    </tr>\n",
       "  </tbody>\n",
       "</table>\n",
       "</div>"
      ],
      "text/plain": [
       "         adjective       noun hinnang\n",
       "0   kahetsusväärne      komme     yes\n",
       "1           õnnetu      komme     yes\n",
       "2  vastutustundetu       isik     yes\n",
       "3      kergemeelne       isik     yes\n",
       "4        lootusetu  narkomaan     yes"
      ]
     },
     "execution_count": 8,
     "metadata": {},
     "output_type": "execute_result"
    }
   ],
   "source": [
    "df_other.head()"
   ]
  },
  {
   "cell_type": "code",
   "execution_count": 9,
   "id": "cd466f4e",
   "metadata": {},
   "outputs": [],
   "source": [
    "same = []\n",
    "different = []\n",
    "\n",
    "for i, row in df_mine.iterrows():\n",
    "    my_eval = row[\"hinnang\"]\n",
    "    other_eval = df_other.at[i, \"hinnang\"]\n",
    "    if my_eval == other_eval:\n",
    "        same.append(i)\n",
    "    else:\n",
    "        different.append(i)"
   ]
  },
  {
   "cell_type": "code",
   "execution_count": 10,
   "id": "3ca3fbdf",
   "metadata": {},
   "outputs": [
    {
     "data": {
      "text/plain": [
       "1000"
      ]
     },
     "execution_count": 10,
     "metadata": {},
     "output_type": "execute_result"
    }
   ],
   "source": [
    "len(same) + len(different)"
   ]
  },
  {
   "cell_type": "code",
   "execution_count": 11,
   "id": "d920067b",
   "metadata": {},
   "outputs": [
    {
     "data": {
      "text/plain": [
       "0.915"
      ]
     },
     "execution_count": 11,
     "metadata": {},
     "output_type": "execute_result"
    }
   ],
   "source": [
    "len(same) / (len(same) + len(different))"
   ]
  },
  {
   "cell_type": "code",
   "execution_count": 12,
   "id": "3bb89447",
   "metadata": {},
   "outputs": [
    {
     "data": {
      "text/plain": [
       "adjective     kriitiline\n",
       "noun         ettevõtmine\n",
       "hinnang               no\n",
       "Name: 999, dtype: object"
      ]
     },
     "execution_count": 12,
     "metadata": {},
     "output_type": "execute_result"
    }
   ],
   "source": [
    "df_other.iloc[different[-1]]"
   ]
  },
  {
   "cell_type": "code",
   "execution_count": 13,
   "id": "900987ed",
   "metadata": {},
   "outputs": [
    {
     "data": {
      "text/plain": [
       "adjective     kriitiline\n",
       "noun         ettevõtmine\n",
       "hinnang              yes\n",
       "Name: 999, dtype: object"
      ]
     },
     "execution_count": 13,
     "metadata": {},
     "output_type": "execute_result"
    }
   ],
   "source": [
    "df_mine.iloc[different[-1]]"
   ]
  },
  {
   "cell_type": "markdown",
   "id": "5cecdbd2",
   "metadata": {},
   "source": [
    "### Correlation of annotations without background info"
   ]
  },
  {
   "cell_type": "code",
   "execution_count": 14,
   "id": "7541ad38",
   "metadata": {},
   "outputs": [],
   "source": [
    "df_other = pd.read_csv(\"annotator2/noun_adjective_sentences_0.csv\", index_col=0, encoding=\"utf8\")\n",
    "\n",
    "for i in range(1, 5):\n",
    "    df = pd.read_csv(f\"annotator2/noun_adjective_sentences_{i}.csv\", index_col=0, encoding=\"utf8\")\n",
    "    df_other = pd.concat([df_other, df], ignore_index = True)"
   ]
  },
  {
   "cell_type": "code",
   "execution_count": 15,
   "id": "5cac6582",
   "metadata": {},
   "outputs": [],
   "source": [
    "df_mine = pd.read_csv(\"annotator1/noun_adjective_100_sentences_0.csv\", index_col=0)\n",
    "\n",
    "for i in range(1, 5):\n",
    "    df = pd.read_csv(f\"annotator1/noun_adjective_100_sentences_{i}.csv\", index_col=0)\n",
    "    df_mine = pd.concat([df_mine, df], ignore_index = True)"
   ]
  },
  {
   "cell_type": "code",
   "execution_count": 16,
   "id": "95e8da9f",
   "metadata": {},
   "outputs": [
    {
     "data": {
      "text/html": [
       "<div>\n",
       "<style scoped>\n",
       "    .dataframe tbody tr th:only-of-type {\n",
       "        vertical-align: middle;\n",
       "    }\n",
       "\n",
       "    .dataframe tbody tr th {\n",
       "        vertical-align: top;\n",
       "    }\n",
       "\n",
       "    .dataframe thead th {\n",
       "        text-align: right;\n",
       "    }\n",
       "</style>\n",
       "<table border=\"1\" class=\"dataframe\">\n",
       "  <thead>\n",
       "    <tr style=\"text-align: right;\">\n",
       "      <th></th>\n",
       "      <th>sentence</th>\n",
       "      <th>adjective</th>\n",
       "      <th>noun</th>\n",
       "      <th>Unnamed: 4</th>\n",
       "    </tr>\n",
       "  </thead>\n",
       "  <tbody>\n",
       "    <tr>\n",
       "      <th>0</th>\n",
       "      <td>Euroopa Uniooniga seoses on juba palju usutlus...</td>\n",
       "      <td>kahetsusväärne</td>\n",
       "      <td>komme</td>\n",
       "      <td>yes</td>\n",
       "    </tr>\n",
       "    <tr>\n",
       "      <th>1</th>\n",
       "      <td>Euroopa Uniooniga seoses on juba palju usutlus...</td>\n",
       "      <td>õnnetu</td>\n",
       "      <td>komme</td>\n",
       "      <td>yes</td>\n",
       "    </tr>\n",
       "    <tr>\n",
       "      <th>2</th>\n",
       "      <td>Nii kui ilmuvad esimesed märgid rahulolevatest...</td>\n",
       "      <td>vastutustundetu</td>\n",
       "      <td>isik</td>\n",
       "      <td>yes</td>\n",
       "    </tr>\n",
       "    <tr>\n",
       "      <th>3</th>\n",
       "      <td>Nii kui ilmuvad esimesed märgid rahulolevatest...</td>\n",
       "      <td>kergemeelne</td>\n",
       "      <td>isik</td>\n",
       "      <td>yes</td>\n",
       "    </tr>\n",
       "    <tr>\n",
       "      <th>4</th>\n",
       "      <td>Oldman nimetab naist “ ***** narkomaaniks ja v...</td>\n",
       "      <td>lootusetu</td>\n",
       "      <td>narkomaan</td>\n",
       "      <td>yes</td>\n",
       "    </tr>\n",
       "  </tbody>\n",
       "</table>\n",
       "</div>"
      ],
      "text/plain": [
       "                                            sentence        adjective  \\\n",
       "0  Euroopa Uniooniga seoses on juba palju usutlus...   kahetsusväärne   \n",
       "1  Euroopa Uniooniga seoses on juba palju usutlus...           õnnetu   \n",
       "2  Nii kui ilmuvad esimesed märgid rahulolevatest...  vastutustundetu   \n",
       "3  Nii kui ilmuvad esimesed märgid rahulolevatest...      kergemeelne   \n",
       "4  Oldman nimetab naist “ ***** narkomaaniks ja v...        lootusetu   \n",
       "\n",
       "        noun Unnamed: 4  \n",
       "0      komme        yes  \n",
       "1      komme        yes  \n",
       "2       isik        yes  \n",
       "3       isik        yes  \n",
       "4  narkomaan        yes  "
      ]
     },
     "execution_count": 16,
     "metadata": {},
     "output_type": "execute_result"
    }
   ],
   "source": [
    "df_other.head()"
   ]
  },
  {
   "cell_type": "code",
   "execution_count": 17,
   "id": "aa0c3362",
   "metadata": {},
   "outputs": [
    {
     "data": {
      "text/html": [
       "<div>\n",
       "<style scoped>\n",
       "    .dataframe tbody tr th:only-of-type {\n",
       "        vertical-align: middle;\n",
       "    }\n",
       "\n",
       "    .dataframe tbody tr th {\n",
       "        vertical-align: top;\n",
       "    }\n",
       "\n",
       "    .dataframe thead th {\n",
       "        text-align: right;\n",
       "    }\n",
       "</style>\n",
       "<table border=\"1\" class=\"dataframe\">\n",
       "  <thead>\n",
       "    <tr style=\"text-align: right;\">\n",
       "      <th></th>\n",
       "      <th>sentence</th>\n",
       "      <th>adjective</th>\n",
       "      <th>noun</th>\n",
       "      <th>hinnang</th>\n",
       "    </tr>\n",
       "  </thead>\n",
       "  <tbody>\n",
       "    <tr>\n",
       "      <th>0</th>\n",
       "      <td>Euroopa Uniooniga seoses on juba palju usutlus...</td>\n",
       "      <td>kahetsusväärne</td>\n",
       "      <td>komme</td>\n",
       "      <td>yes</td>\n",
       "    </tr>\n",
       "    <tr>\n",
       "      <th>1</th>\n",
       "      <td>Euroopa Uniooniga seoses on juba palju usutlus...</td>\n",
       "      <td>õnnetu</td>\n",
       "      <td>komme</td>\n",
       "      <td>yes</td>\n",
       "    </tr>\n",
       "    <tr>\n",
       "      <th>2</th>\n",
       "      <td>Nii kui ilmuvad esimesed märgid rahulolevatest...</td>\n",
       "      <td>vastutustundetu</td>\n",
       "      <td>isik</td>\n",
       "      <td>yes</td>\n",
       "    </tr>\n",
       "    <tr>\n",
       "      <th>3</th>\n",
       "      <td>Nii kui ilmuvad esimesed märgid rahulolevatest...</td>\n",
       "      <td>kergemeelne</td>\n",
       "      <td>isik</td>\n",
       "      <td>yes</td>\n",
       "    </tr>\n",
       "    <tr>\n",
       "      <th>4</th>\n",
       "      <td>Oldman nimetab naist “ &lt;&lt;&lt;ADJ narkomaaniks ja ...</td>\n",
       "      <td>lootusetu</td>\n",
       "      <td>narkomaan</td>\n",
       "      <td>yes</td>\n",
       "    </tr>\n",
       "  </tbody>\n",
       "</table>\n",
       "</div>"
      ],
      "text/plain": [
       "                                            sentence        adjective  \\\n",
       "0  Euroopa Uniooniga seoses on juba palju usutlus...   kahetsusväärne   \n",
       "1  Euroopa Uniooniga seoses on juba palju usutlus...           õnnetu   \n",
       "2  Nii kui ilmuvad esimesed märgid rahulolevatest...  vastutustundetu   \n",
       "3  Nii kui ilmuvad esimesed märgid rahulolevatest...      kergemeelne   \n",
       "4  Oldman nimetab naist “ <<<ADJ narkomaaniks ja ...        lootusetu   \n",
       "\n",
       "        noun hinnang  \n",
       "0      komme     yes  \n",
       "1      komme     yes  \n",
       "2       isik     yes  \n",
       "3       isik     yes  \n",
       "4  narkomaan     yes  "
      ]
     },
     "execution_count": 17,
     "metadata": {},
     "output_type": "execute_result"
    }
   ],
   "source": [
    "df_mine.head()"
   ]
  },
  {
   "cell_type": "code",
   "execution_count": 18,
   "id": "31c6372d",
   "metadata": {},
   "outputs": [],
   "source": [
    "df_other.columns = [\"sentence\", \"adjective\", \"noun\", \"hinnang\"]"
   ]
  },
  {
   "cell_type": "code",
   "execution_count": 19,
   "id": "288fd407",
   "metadata": {},
   "outputs": [],
   "source": [
    "df_other[\"hinnang\"] = df_other[\"hinnang\"].str.lower()"
   ]
  },
  {
   "cell_type": "code",
   "execution_count": 20,
   "id": "7770f350",
   "metadata": {},
   "outputs": [
    {
     "data": {
      "text/html": [
       "<div>\n",
       "<style scoped>\n",
       "    .dataframe tbody tr th:only-of-type {\n",
       "        vertical-align: middle;\n",
       "    }\n",
       "\n",
       "    .dataframe tbody tr th {\n",
       "        vertical-align: top;\n",
       "    }\n",
       "\n",
       "    .dataframe thead th {\n",
       "        text-align: right;\n",
       "    }\n",
       "</style>\n",
       "<table border=\"1\" class=\"dataframe\">\n",
       "  <thead>\n",
       "    <tr style=\"text-align: right;\">\n",
       "      <th></th>\n",
       "      <th>sentence</th>\n",
       "      <th>adjective</th>\n",
       "      <th>noun</th>\n",
       "      <th>hinnang</th>\n",
       "    </tr>\n",
       "  </thead>\n",
       "  <tbody>\n",
       "    <tr>\n",
       "      <th>0</th>\n",
       "      <td>Euroopa Uniooniga seoses on juba palju usutlus...</td>\n",
       "      <td>kahetsusväärne</td>\n",
       "      <td>komme</td>\n",
       "      <td>yes</td>\n",
       "    </tr>\n",
       "    <tr>\n",
       "      <th>1</th>\n",
       "      <td>Euroopa Uniooniga seoses on juba palju usutlus...</td>\n",
       "      <td>õnnetu</td>\n",
       "      <td>komme</td>\n",
       "      <td>yes</td>\n",
       "    </tr>\n",
       "    <tr>\n",
       "      <th>2</th>\n",
       "      <td>Nii kui ilmuvad esimesed märgid rahulolevatest...</td>\n",
       "      <td>vastutustundetu</td>\n",
       "      <td>isik</td>\n",
       "      <td>yes</td>\n",
       "    </tr>\n",
       "    <tr>\n",
       "      <th>3</th>\n",
       "      <td>Nii kui ilmuvad esimesed märgid rahulolevatest...</td>\n",
       "      <td>kergemeelne</td>\n",
       "      <td>isik</td>\n",
       "      <td>yes</td>\n",
       "    </tr>\n",
       "    <tr>\n",
       "      <th>4</th>\n",
       "      <td>Oldman nimetab naist “ ***** narkomaaniks ja v...</td>\n",
       "      <td>lootusetu</td>\n",
       "      <td>narkomaan</td>\n",
       "      <td>yes</td>\n",
       "    </tr>\n",
       "  </tbody>\n",
       "</table>\n",
       "</div>"
      ],
      "text/plain": [
       "                                            sentence        adjective  \\\n",
       "0  Euroopa Uniooniga seoses on juba palju usutlus...   kahetsusväärne   \n",
       "1  Euroopa Uniooniga seoses on juba palju usutlus...           õnnetu   \n",
       "2  Nii kui ilmuvad esimesed märgid rahulolevatest...  vastutustundetu   \n",
       "3  Nii kui ilmuvad esimesed märgid rahulolevatest...      kergemeelne   \n",
       "4  Oldman nimetab naist “ ***** narkomaaniks ja v...        lootusetu   \n",
       "\n",
       "        noun hinnang  \n",
       "0      komme     yes  \n",
       "1      komme     yes  \n",
       "2       isik     yes  \n",
       "3       isik     yes  \n",
       "4  narkomaan     yes  "
      ]
     },
     "execution_count": 20,
     "metadata": {},
     "output_type": "execute_result"
    }
   ],
   "source": [
    "df_other.head()"
   ]
  },
  {
   "cell_type": "code",
   "execution_count": 21,
   "id": "9af6481c",
   "metadata": {},
   "outputs": [],
   "source": [
    "same = []\n",
    "different = []\n",
    "\n",
    "for i, row in df_mine.iterrows():\n",
    "    my_eval = row[\"hinnang\"]\n",
    "    other_eval = df_other.at[i, \"hinnang\"]\n",
    "    if my_eval == other_eval:\n",
    "        same.append(i)\n",
    "    else:\n",
    "        different.append(i)"
   ]
  },
  {
   "cell_type": "code",
   "execution_count": 22,
   "id": "3ed33df5",
   "metadata": {},
   "outputs": [
    {
     "data": {
      "text/plain": [
       "1000"
      ]
     },
     "execution_count": 22,
     "metadata": {},
     "output_type": "execute_result"
    }
   ],
   "source": [
    "len(same) + len(different)"
   ]
  },
  {
   "cell_type": "code",
   "execution_count": 23,
   "id": "e0787fa0",
   "metadata": {},
   "outputs": [
    {
     "data": {
      "text/plain": [
       "0.86"
      ]
     },
     "execution_count": 23,
     "metadata": {},
     "output_type": "execute_result"
    }
   ],
   "source": [
    "len(same) / (len(same) + len(different))"
   ]
  }
 ],
 "metadata": {
  "kernelspec": {
   "display_name": "Python 3",
   "language": "python",
   "name": "python3"
  },
  "language_info": {
   "codemirror_mode": {
    "name": "ipython",
    "version": 3
   },
   "file_extension": ".py",
   "mimetype": "text/x-python",
   "name": "python",
   "nbconvert_exporter": "python",
   "pygments_lexer": "ipython3",
   "version": "3.6.13"
  }
 },
 "nbformat": 4,
 "nbformat_minor": 5
}
