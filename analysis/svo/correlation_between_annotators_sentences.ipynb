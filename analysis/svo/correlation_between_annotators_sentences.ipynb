{
 "cells": [
  {
   "cell_type": "code",
   "execution_count": 1,
   "id": "210a572d",
   "metadata": {},
   "outputs": [],
   "source": [
    "import pandas as pd\n",
    "import numpy as np"
   ]
  },
  {
   "cell_type": "code",
   "execution_count": 2,
   "id": "14e77d06",
   "metadata": {},
   "outputs": [],
   "source": [
    "df_other = pd.read_csv(\"annotator2/svo_sentences_1.csv\", index_col=0, encoding=\"utf8\")\n",
    "\n",
    "for i in range(2, 6):\n",
    "    df = pd.read_csv(f\"annotator2/svo_sentences_{i}.csv\", index_col=0, encoding=\"utf8\")\n",
    "    df_other = pd.concat([df_other, df], ignore_index = True)"
   ]
  },
  {
   "cell_type": "code",
   "execution_count": 3,
   "id": "77f9731b",
   "metadata": {},
   "outputs": [],
   "source": [
    "df_mine = pd.read_csv(\"annotator1/svo_100_sentences_1.csv\", index_col=0)\n",
    "\n",
    "for i in range(2, 6):\n",
    "    df = pd.read_csv(f\"annotator1/svo_100_sentences_{i}.csv\", index_col=0)\n",
    "    df_mine = pd.concat([df_mine, df], ignore_index = True)"
   ]
  },
  {
   "cell_type": "code",
   "execution_count": 4,
   "id": "8e718d24",
   "metadata": {},
   "outputs": [
    {
     "data": {
      "text/html": [
       "<div>\n",
       "<style scoped>\n",
       "    .dataframe tbody tr th:only-of-type {\n",
       "        vertical-align: middle;\n",
       "    }\n",
       "\n",
       "    .dataframe tbody tr th {\n",
       "        vertical-align: top;\n",
       "    }\n",
       "\n",
       "    .dataframe thead th {\n",
       "        text-align: right;\n",
       "    }\n",
       "</style>\n",
       "<table border=\"1\" class=\"dataframe\">\n",
       "  <thead>\n",
       "    <tr style=\"text-align: right;\">\n",
       "      <th></th>\n",
       "      <th>sentence</th>\n",
       "      <th>subject</th>\n",
       "      <th>object</th>\n",
       "      <th>hinnang</th>\n",
       "    </tr>\n",
       "  </thead>\n",
       "  <tbody>\n",
       "    <tr>\n",
       "      <th>0</th>\n",
       "      <td>Mind ei ***** eriti ***** saada järgmiseks , m...</td>\n",
       "      <td>väljavaade</td>\n",
       "      <td>võlu</td>\n",
       "      <td>no</td>\n",
       "    </tr>\n",
       "    <tr>\n",
       "      <th>1</th>\n",
       "      <td>Mind ei ***** eriti ***** saada järgmiseks , m...</td>\n",
       "      <td>võlu</td>\n",
       "      <td>väljavaade</td>\n",
       "      <td>no</td>\n",
       "    </tr>\n",
       "    <tr>\n",
       "      <th>2</th>\n",
       "      <td>Sedavõrd tugevasti on ***** ***** presidendiam...</td>\n",
       "      <td>tema</td>\n",
       "      <td>ise</td>\n",
       "      <td>no</td>\n",
       "    </tr>\n",
       "    <tr>\n",
       "      <th>3</th>\n",
       "      <td>Sedavõrd tugevasti on ***** ***** presidendiam...</td>\n",
       "      <td>ise</td>\n",
       "      <td>tema</td>\n",
       "      <td>no</td>\n",
       "    </tr>\n",
       "    <tr>\n",
       "      <th>4</th>\n",
       "      <td>***** saab ***** Tulbi spordiklubist , nii et ...</td>\n",
       "      <td>tema</td>\n",
       "      <td>palk</td>\n",
       "      <td>yes</td>\n",
       "    </tr>\n",
       "  </tbody>\n",
       "</table>\n",
       "</div>"
      ],
      "text/plain": [
       "                                            sentence     subject      object  \\\n",
       "0  Mind ei ***** eriti ***** saada järgmiseks , m...  väljavaade        võlu   \n",
       "1  Mind ei ***** eriti ***** saada järgmiseks , m...        võlu  väljavaade   \n",
       "2  Sedavõrd tugevasti on ***** ***** presidendiam...        tema         ise   \n",
       "3  Sedavõrd tugevasti on ***** ***** presidendiam...         ise        tema   \n",
       "4  ***** saab ***** Tulbi spordiklubist , nii et ...        tema        palk   \n",
       "\n",
       "  hinnang  \n",
       "0      no  \n",
       "1      no  \n",
       "2      no  \n",
       "3      no  \n",
       "4     yes  "
      ]
     },
     "execution_count": 4,
     "metadata": {},
     "output_type": "execute_result"
    }
   ],
   "source": [
    "df_other.head()"
   ]
  },
  {
   "cell_type": "code",
   "execution_count": 5,
   "id": "32b8ed11",
   "metadata": {},
   "outputs": [
    {
     "data": {
      "text/html": [
       "<div>\n",
       "<style scoped>\n",
       "    .dataframe tbody tr th:only-of-type {\n",
       "        vertical-align: middle;\n",
       "    }\n",
       "\n",
       "    .dataframe tbody tr th {\n",
       "        vertical-align: top;\n",
       "    }\n",
       "\n",
       "    .dataframe thead th {\n",
       "        text-align: right;\n",
       "    }\n",
       "</style>\n",
       "<table border=\"1\" class=\"dataframe\">\n",
       "  <thead>\n",
       "    <tr style=\"text-align: right;\">\n",
       "      <th></th>\n",
       "      <th>sentence</th>\n",
       "      <th>subject</th>\n",
       "      <th>object</th>\n",
       "      <th>hinnang</th>\n",
       "      <th>Unnamed: 5</th>\n",
       "    </tr>\n",
       "  </thead>\n",
       "  <tbody>\n",
       "    <tr>\n",
       "      <th>0</th>\n",
       "      <td>Mind ei ***** eriti ***** saada järgmiseks , m...</td>\n",
       "      <td>väljavaade</td>\n",
       "      <td>võlu</td>\n",
       "      <td>no</td>\n",
       "      <td>NaN</td>\n",
       "    </tr>\n",
       "    <tr>\n",
       "      <th>1</th>\n",
       "      <td>Mind ei ***** eriti ***** saada järgmiseks , m...</td>\n",
       "      <td>võlu</td>\n",
       "      <td>väljavaade</td>\n",
       "      <td>no</td>\n",
       "      <td>NaN</td>\n",
       "    </tr>\n",
       "    <tr>\n",
       "      <th>2</th>\n",
       "      <td>Sedavõrd tugevasti on ***** ***** presidendiam...</td>\n",
       "      <td>tema</td>\n",
       "      <td>ise</td>\n",
       "      <td>yes</td>\n",
       "      <td>NaN</td>\n",
       "    </tr>\n",
       "    <tr>\n",
       "      <th>3</th>\n",
       "      <td>Sedavõrd tugevasti on ***** ***** presidendiam...</td>\n",
       "      <td>ise</td>\n",
       "      <td>tema</td>\n",
       "      <td>no</td>\n",
       "      <td>NaN</td>\n",
       "    </tr>\n",
       "    <tr>\n",
       "      <th>4</th>\n",
       "      <td>***** saab ***** Tulbi spordiklubist , nii et ...</td>\n",
       "      <td>tema</td>\n",
       "      <td>palk</td>\n",
       "      <td>yes</td>\n",
       "      <td>NaN</td>\n",
       "    </tr>\n",
       "  </tbody>\n",
       "</table>\n",
       "</div>"
      ],
      "text/plain": [
       "                                            sentence     subject      object  \\\n",
       "0  Mind ei ***** eriti ***** saada järgmiseks , m...  väljavaade        võlu   \n",
       "1  Mind ei ***** eriti ***** saada järgmiseks , m...        võlu  väljavaade   \n",
       "2  Sedavõrd tugevasti on ***** ***** presidendiam...        tema         ise   \n",
       "3  Sedavõrd tugevasti on ***** ***** presidendiam...         ise        tema   \n",
       "4  ***** saab ***** Tulbi spordiklubist , nii et ...        tema        palk   \n",
       "\n",
       "  hinnang Unnamed: 5  \n",
       "0      no        NaN  \n",
       "1      no        NaN  \n",
       "2     yes        NaN  \n",
       "3      no        NaN  \n",
       "4     yes        NaN  "
      ]
     },
     "execution_count": 5,
     "metadata": {},
     "output_type": "execute_result"
    }
   ],
   "source": [
    "df_mine.head()"
   ]
  },
  {
   "cell_type": "code",
   "execution_count": 6,
   "id": "cd466f4e",
   "metadata": {},
   "outputs": [],
   "source": [
    "same = []\n",
    "different = []\n",
    "\n",
    "for i, row in df_mine.iterrows():\n",
    "    my_eval = row[\"hinnang\"]\n",
    "    other_eval = df_other.at[i, \"hinnang\"]\n",
    "    if my_eval == other_eval:\n",
    "        same.append(i)\n",
    "    else:\n",
    "        different.append(i)"
   ]
  },
  {
   "cell_type": "code",
   "execution_count": 7,
   "id": "3ca3fbdf",
   "metadata": {},
   "outputs": [
    {
     "data": {
      "text/plain": [
       "1000"
      ]
     },
     "execution_count": 7,
     "metadata": {},
     "output_type": "execute_result"
    }
   ],
   "source": [
    "len(same) + len(different)"
   ]
  },
  {
   "cell_type": "code",
   "execution_count": 8,
   "id": "d920067b",
   "metadata": {},
   "outputs": [
    {
     "data": {
      "text/plain": [
       "0.937"
      ]
     },
     "execution_count": 8,
     "metadata": {},
     "output_type": "execute_result"
    }
   ],
   "source": [
    "len(same) / (len(same) + len(different))"
   ]
  },
  {
   "cell_type": "code",
   "execution_count": 9,
   "id": "3bb89447",
   "metadata": {},
   "outputs": [
    {
     "data": {
      "text/plain": [
       "sentence    Muide , ***** juhtis tol ajal ei keegi ***** k...\n",
       "subject                                                  kool\n",
       "object                                                    muu\n",
       "hinnang                                                   yes\n",
       "Name: 985, dtype: object"
      ]
     },
     "execution_count": 9,
     "metadata": {},
     "output_type": "execute_result"
    }
   ],
   "source": [
    "df_other.iloc[different[-1]]"
   ]
  },
  {
   "cell_type": "code",
   "execution_count": 10,
   "id": "900987ed",
   "metadata": {},
   "outputs": [
    {
     "data": {
      "text/plain": [
       "sentence      Muide , ***** juhtis tol ajal ei keegi ***** k...\n",
       "subject                                                    kool\n",
       "object                                                      muu\n",
       "hinnang                                                      no\n",
       "Unnamed: 5                                                  NaN\n",
       "Name: 985, dtype: object"
      ]
     },
     "execution_count": 10,
     "metadata": {},
     "output_type": "execute_result"
    }
   ],
   "source": [
    "df_mine.iloc[different[-1]]"
   ]
  }
 ],
 "metadata": {
  "kernelspec": {
   "display_name": "Python 3",
   "language": "python",
   "name": "python3"
  },
  "language_info": {
   "codemirror_mode": {
    "name": "ipython",
    "version": 3
   },
   "file_extension": ".py",
   "mimetype": "text/x-python",
   "name": "python",
   "nbconvert_exporter": "python",
   "pygments_lexer": "ipython3",
   "version": "3.6.13"
  }
 },
 "nbformat": 4,
 "nbformat_minor": 5
}
