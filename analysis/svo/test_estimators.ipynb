{
 "cells": [
  {
   "cell_type": "code",
   "execution_count": 1,
   "id": "eeec21f0",
   "metadata": {},
   "outputs": [],
   "source": [
    "import numpy as np\n",
    "\n",
    "from pandas import DataFrame\n",
    "\n",
    "from estimators import observed_agreement"
   ]
  },
  {
   "cell_type": "code",
   "execution_count": 3,
   "id": "3d386d94",
   "metadata": {},
   "outputs": [],
   "source": [
    "confusion_matrix = DataFrame(np.array([[325,  79],[ 26, 576]])) \n",
    "expected_outcome = (confusion_matrix.iloc[0,0] + confusion_matrix.iloc[1,1])/confusion_matrix.sum().sum()\n",
    "assert observed_agreement(confusion_matrix) == expected_outcome"
   ]
  }
 ],
 "metadata": {
  "kernelspec": {
   "display_name": "Python 3 (ipykernel)",
   "language": "python",
   "name": "python3"
  },
  "language_info": {
   "codemirror_mode": {
    "name": "ipython",
    "version": 3
   },
   "file_extension": ".py",
   "mimetype": "text/x-python",
   "name": "python",
   "nbconvert_exporter": "python",
   "pygments_lexer": "ipython3",
   "version": "3.8.12"
  }
 },
 "nbformat": 4,
 "nbformat_minor": 5
}
